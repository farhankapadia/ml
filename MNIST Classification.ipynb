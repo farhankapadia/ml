{
 "cells": [
  {
   "cell_type": "markdown",
   "id": "3bf8e608",
   "metadata": {},
   "source": [
    "# MNIST"
   ]
  },
  {
   "cell_type": "markdown",
   "id": "32150201",
   "metadata": {},
   "source": [
    "The following code fetches the MNIST dataset from Scikit-learn's popular datasets helper function *fetch_openml()*"
   ]
  },
  {
   "cell_type": "code",
   "execution_count": 76,
   "id": "4d49953a",
   "metadata": {},
   "outputs": [
    {
     "data": {
      "text/plain": [
       "dict_keys(['data', 'target', 'frame', 'categories', 'feature_names', 'target_names', 'DESCR', 'details', 'url'])"
      ]
     },
     "execution_count": 76,
     "metadata": {},
     "output_type": "execute_result"
    }
   ],
   "source": [
    "from sklearn.datasets import fetch_openml\n",
    "mnist = fetch_openml('mnist_784', version=1, as_frame=False)\n",
    "mnist.keys()"
   ]
  },
  {
   "cell_type": "markdown",
   "id": "96bde199",
   "metadata": {},
   "source": [
    "Datasets loaded from Scikit-learn have a similar dictionary structure. \n",
    "\n",
    "1. A *DESCR* key describing the dataset\n",
    "2. A *data* key containing an array with one row per instance and one column per feature\n",
    "3. A *target* key containing an array with the labels"
   ]
  },
  {
   "cell_type": "code",
   "execution_count": 77,
   "id": "f906708e",
   "metadata": {},
   "outputs": [
    {
     "data": {
      "text/plain": [
       "(70000, 784)"
      ]
     },
     "execution_count": 77,
     "metadata": {},
     "output_type": "execute_result"
    }
   ],
   "source": [
    "X, y = mnist[\"data\"], mnist[\"target\"]\n",
    "X.shape"
   ]
  },
  {
   "cell_type": "code",
   "execution_count": 78,
   "id": "aff734c0",
   "metadata": {},
   "outputs": [
    {
     "data": {
      "text/plain": [
       "(70000,)"
      ]
     },
     "execution_count": 78,
     "metadata": {},
     "output_type": "execute_result"
    }
   ],
   "source": [
    "y.shape"
   ]
  },
  {
   "cell_type": "markdown",
   "id": "5fa069da",
   "metadata": {},
   "source": [
    "There are 70000 images and each image has 784 features. This is because each image is 28x28 pixels, and each feature represents one pixel's intensity from 0 (white) to 255 (black). Taking a peek at one digit from the dataset. To grab an instance's feature vector, reshape it to a 28x28 array and display using Matplotlib's *imshow()* function"
   ]
  },
  {
   "cell_type": "code",
   "execution_count": 79,
   "id": "1a06e1a1",
   "metadata": {},
   "outputs": [
    {
     "data": {
      "image/png": "[encoded data removed]",
      "text/plain": [
       "<Figure size 432x288 with 1 Axes>"
      ]
     },
     "metadata": {
      "needs_background": "light"
     },
     "output_type": "display_data"
    }
   ],
   "source": [
    "%matplotlib inline\n",
    "import matplotlib.pyplot as plt\n",
    "import matplotlib as mpl\n",
    "\n",
    "some_digit = X[0]\n",
    "some_digit_image = some_digit.reshape(28, 28)\n",
    "\n",
    "plt.imshow(some_digit_image, cmap=\"binary\")\n",
    "plt.axis(\"off\")\n",
    "plt.show()"
   ]
  },
  {
   "cell_type": "code",
   "execution_count": 80,
   "id": "5b9e93ec",
   "metadata": {},
   "outputs": [
    {
     "data": {
      "text/plain": [
       "'5'"
      ]
     },
     "execution_count": 80,
     "metadata": {},
     "output_type": "execute_result"
    }
   ],
   "source": [
    "y[0]"
   ]
  },
  {
   "cell_type": "markdown",
   "id": "f91236be",
   "metadata": {},
   "source": [
    "Most ML algos accept numbers and the output above is a string, so converting it to int"
   ]
  },
  {
   "cell_type": "code",
   "execution_count": 81,
   "id": "212e1f0f",
   "metadata": {},
   "outputs": [],
   "source": [
    "import numpy as np\n",
    "\n",
    "y = y.astype(np.uint8)"
   ]
  },
  {
   "cell_type": "markdown",
   "id": "8f1977c8",
   "metadata": {},
   "source": [
    "The MNIST dataset is already split into a train and test set with the first 60000 rows being the train set and the last 10000 rows being the test set"
   ]
  },
  {
   "cell_type": "code",
   "execution_count": 82,
   "id": "c31c737d",
   "metadata": {},
   "outputs": [],
   "source": [
    "X_train, X_test, y_train, y_test = X[:60000], X[60000:], y[:60000], y[60000:]"
   ]
  },
  {
   "cell_type": "markdown",
   "id": "dab8791d",
   "metadata": {},
   "source": [
    "# Training a Binary Classifier"
   ]
  },
  {
   "cell_type": "markdown",
   "id": "87ba391b",
   "metadata": {},
   "source": [
    "Simplifying the problem to a binary classification problem of detecting if an instance is 5 or not 5"
   ]
  },
  {
   "cell_type": "code",
   "execution_count": 83,
   "id": "2a1a4439",
   "metadata": {},
   "outputs": [],
   "source": [
    "y_train_5 = (y_train == 5) #True for all 5s, False for all other digits\n",
    "y_test_5 = (y_test == 5)"
   ]
  },
  {
   "cell_type": "markdown",
   "id": "33430297",
   "metadata": {},
   "source": [
    "A good model to start with is the *Stochastic Gradient Descent* classifier, using Scikit-learn's **SGDClassifier** class."
   ]
  },
  {
   "cell_type": "code",
   "execution_count": 84,
   "id": "e75cea09",
   "metadata": {},
   "outputs": [
    {
     "data": {
      "text/plain": [
       "SGDClassifier(random_state=42)"
      ]
     },
     "execution_count": 84,
     "metadata": {},
     "output_type": "execute_result"
    }
   ],
   "source": [
    "from sklearn.linear_model import SGDClassifier\n",
    "\n",
    "sgd_clf = SGDClassifier(random_state=42)\n",
    "sgd_clf.fit(X_train, y_train_5)"
   ]
  },
  {
   "cell_type": "code",
   "execution_count": 85,
   "id": "9cc6ba11",
   "metadata": {},
   "outputs": [
    {
     "data": {
      "text/plain": [
       "array([ True])"
      ]
     },
     "execution_count": 85,
     "metadata": {},
     "output_type": "execute_result"
    }
   ],
   "source": [
    "sgd_clf.predict([some_digit])"
   ]
  },
  {
   "cell_type": "markdown",
   "id": "793240ce",
   "metadata": {},
   "source": [
    "# Performance Measures"
   ]
  },
  {
   "cell_type": "markdown",
   "id": "d547cd31",
   "metadata": {},
   "source": [
    "### Measuring Accuracy Using Cross-Validation"
   ]
  },
  {
   "cell_type": "markdown",
   "id": "cd9884e1",
   "metadata": {},
   "source": [
    "#### Implementing Cross-Validation"
   ]
  },
  {
   "cell_type": "markdown",
   "id": "0e804c64",
   "metadata": {},
   "source": [
    "In some cases, it might be helpful to implement our own Cross-Validation function to get a proper stratified split om the data using **StratifiedKFold**"
   ]
  },
  {
   "cell_type": "code",
   "execution_count": 86,
   "id": "20f3bf8b",
   "metadata": {},
   "outputs": [
    {
     "name": "stdout",
     "output_type": "stream",
     "text": [
      "0.95035\n",
      "0.96035\n",
      "0.9604\n"
     ]
    }
   ],
   "source": [
    "from sklearn.model_selection import StratifiedKFold\n",
    "from sklearn.base import clone\n",
    "\n",
    "skfolds = StratifiedKFold(n_splits=3)\n",
    "\n",
    "for train_index, test_index in skfolds.split(X_train, y_train_5):\n",
    "    clone_clf = clone(sgd_clf)\n",
    "    X_train_folds = X_train[train_index]\n",
    "    y_train_folds = y_train_5[train_index]\n",
    "    X_test_fold = X_train[test_index]\n",
    "    y_test_fold = y_train_5[test_index]\n",
    "    \n",
    "    clone_clf.fit(X_train_folds, y_train_folds)\n",
    "    y_pred = clone_clf.predict(X_test_fold)\n",
    "    n_correct = sum(y_pred == y_test_fold)\n",
    "    print(n_correct / len(y_pred))"
   ]
  },
  {
   "cell_type": "markdown",
   "id": "ef815575",
   "metadata": {},
   "source": [
    "Splitting the training set into 3 folds using the **cross_val_score()** function"
   ]
  },
  {
   "cell_type": "code",
   "execution_count": 87,
   "id": "258daa55",
   "metadata": {},
   "outputs": [
    {
     "data": {
      "text/plain": [
       "array([0.95035, 0.96035, 0.9604 ])"
      ]
     },
     "execution_count": 87,
     "metadata": {},
     "output_type": "execute_result"
    }
   ],
   "source": [
    "from sklearn.model_selection import cross_val_score\n",
    "\n",
    "cross_val_score(sgd_clf, X_train, y_train_5, cv=3, scoring=\"accuracy\")"
   ]
  },
  {
   "cell_type": "markdown",
   "id": "bf90af26",
   "metadata": {},
   "source": [
    "Above 95% accuracy on all folds seems good but is deceiving. Testing another classifier that classifies every single image in the \"not 5\" class"
   ]
  },
  {
   "cell_type": "code",
   "execution_count": 88,
   "id": "26d415aa",
   "metadata": {},
   "outputs": [],
   "source": [
    "from sklearn.base import BaseEstimator\n",
    "\n",
    "class Never5Classifier(BaseEstimator):\n",
    "    def fit(self, X, y=None):\n",
    "        return self\n",
    "    def predict(self, X):\n",
    "        return np.zeros((len(X), 1), dtype=bool)"
   ]
  },
  {
   "cell_type": "code",
   "execution_count": 89,
   "id": "c405de2c",
   "metadata": {},
   "outputs": [
    {
     "data": {
      "text/plain": [
       "array([0.91125, 0.90855, 0.90915])"
      ]
     },
     "execution_count": 89,
     "metadata": {},
     "output_type": "execute_result"
    }
   ],
   "source": [
    "never_5_clf = Never5Classifier()\n",
    "cross_val_score(never_5_clf, X_train, y_train_5, cv=3, scoring=\"accuracy\")"
   ]
  },
  {
   "cell_type": "markdown",
   "id": "7f25425f",
   "metadata": {},
   "source": [
    "Above 90% accuracy. Again, seems good but that is only happening because only 10% of the dataset contains 5s. So even if the classifier predicted all instances as not 5 it would have at least a 90% accuracy.\n",
    "\n",
    "This shows that generally accuracy is not a preferred metric, especially when the dataset is *skewed*."
   ]
  },
  {
   "cell_type": "markdown",
   "id": "acf98e0a",
   "metadata": {},
   "source": [
    "### Confusion Matrix"
   ]
  },
  {
   "cell_type": "markdown",
   "id": "400b1dad",
   "metadata": {},
   "source": [
    "A confusion matrix is one of the metrics used to evaluate classifiers. The general idea is to count the number of times class A was classified as class B. \n",
    "\n",
    "To compute the confusion matrix, we first need a set of predictions that can be compared to the actual targets. We use the **cross_val_predict()** function to get the predictions on K folds instead of the scores."
   ]
  },
  {
   "cell_type": "code",
   "execution_count": 90,
   "id": "e6e451d9",
   "metadata": {},
   "outputs": [],
   "source": [
    "from sklearn.model_selection import cross_val_predict\n",
    "\n",
    "y_train_pred = cross_val_predict(sgd_clf, X_train, y_train_5, cv=3)"
   ]
  },
  {
   "cell_type": "code",
   "execution_count": 91,
   "id": "e46c66be",
   "metadata": {},
   "outputs": [
    {
     "data": {
      "text/plain": [
       "array([[53892,   687],\n",
       "       [ 1891,  3530]])"
      ]
     },
     "execution_count": 91,
     "metadata": {},
     "output_type": "execute_result"
    }
   ],
   "source": [
    "from sklearn.metrics import confusion_matrix\n",
    "\n",
    "confusion_matrix(y_train_5, y_train_pred)"
   ]
  },
  {
   "cell_type": "markdown",
   "id": "c8246dff",
   "metadata": {},
   "source": [
    "Each row in a confusion matrix represents an *actual class* while each column represents a *predicted class*. The first row of this matrix considers non-5 images (the *negative class*). 53892 of them were correctly predicted as not 5 (*true negatives*), while the remaining 687 were wrongly classified as 5s (*false positives*). The second row considers the 5 images (*positive class*). 1891 of them were wrongly classified as non-5s (*false negatives*) while 3530 of them were correctly classified as 5s (*true positives*). \n",
    "\n",
    "A perfect classifier would have only true positives and true negatives, so its confusion matrix would have non-zero values only on its main diagonal."
   ]
  },
  {
   "cell_type": "code",
   "execution_count": 92,
   "id": "c3fa3d33",
   "metadata": {},
   "outputs": [
    {
     "data": {
      "text/plain": [
       "array([[54579,     0],\n",
       "       [    0,  5421]])"
      ]
     },
     "execution_count": 92,
     "metadata": {},
     "output_type": "execute_result"
    }
   ],
   "source": [
    "y_train_perfect_predictions = y_train_5 #pretend we reached perfection\n",
    "confusion_matrix(y_train_5, y_train_perfect_predictions)"
   ]
  },
  {
   "cell_type": "markdown",
   "id": "cdc6b0b8",
   "metadata": {},
   "source": [
    "The confusion matrix is a good metric but in case we need some more concise information, we can use the precision and recall scores.\n",
    "\n",
    "Precision is a ratio of the number of true positives out of all the positive predictions made. Precision = TP/(TP+FP).\n",
    "\n",
    "Recall/Sensitivity/True positive rate (TPR) is measure of how many positives were captured out of all the positives. Recall = TP/(TP+FN)"
   ]
  },
  {
   "cell_type": "markdown",
   "id": "ea873a03",
   "metadata": {},
   "source": [
    "### Precision and Recall"
   ]
  },
  {
   "cell_type": "code",
   "execution_count": 93,
   "id": "7bb438f2",
   "metadata": {},
   "outputs": [
    {
     "data": {
      "text/plain": [
       "0.8370879772350012"
      ]
     },
     "execution_count": 93,
     "metadata": {},
     "output_type": "execute_result"
    }
   ],
   "source": [
    "from sklearn.metrics import precision_score, recall_score\n",
    "\n",
    "precision_score(y_train_5, y_train_pred)"
   ]
  },
  {
   "cell_type": "code",
   "execution_count": 94,
   "id": "e52cf254",
   "metadata": {},
   "outputs": [
    {
     "data": {
      "text/plain": [
       "0.6511713705958311"
      ]
     },
     "execution_count": 94,
     "metadata": {},
     "output_type": "execute_result"
    }
   ],
   "source": [
    "recall_score(y_train_5, y_train_pred)"
   ]
  },
  {
   "cell_type": "markdown",
   "id": "6ecb1433",
   "metadata": {},
   "source": [
    "Our model doesn't look as good now as it did with the accuracy metric. It only has a precision of 83.71% and a recall of 65.12%. \n",
    "\n",
    "It is often convenient to combine the precision and recall score into a single metric called the F1 score. The F1 score is the harmonic mean of the precision and recall scores. Whereas the regular mean treats all values equally, the harmonic mean gives much more weight to low values as a result of which the classifier only gets a high F1 score if both recall and precision are high."
   ]
  },
  {
   "cell_type": "code",
   "execution_count": 95,
   "id": "784a6a4e",
   "metadata": {},
   "outputs": [
    {
     "data": {
      "text/plain": [
       "0.7325171197343846"
      ]
     },
     "execution_count": 95,
     "metadata": {},
     "output_type": "execute_result"
    }
   ],
   "source": [
    "from sklearn.metrics import f1_score\n",
    "\n",
    "f1_score(y_train_5, y_train_pred)"
   ]
  },
  {
   "cell_type": "markdown",
   "id": "25f5ef19",
   "metadata": {},
   "source": [
    "The F1 score usually favors classifiers that have similar precision and recall scores which is not always good. Sometimes, aaccording to our problem we may need a high precision and low recall or vice versa. \n",
    "\n",
    "Increasing precision reduces recall and vice versa. This is called *precision/recall trade-off*."
   ]
  },
  {
   "cell_type": "markdown",
   "id": "705dbe31",
   "metadata": {},
   "source": [
    "### Precision/Recall Trade-off"
   ]
  },
  {
   "cell_type": "markdown",
   "id": "cbf6c83f",
   "metadata": {},
   "source": [
    "To understand this trade-off, we must understand how a classifier makes its decisions. The **SGDClassifier** makes its classification decisions based on a score based on a *decision function*. If the score is greater than a *threshold*, it assigns the instance to the positive class; otherwise to the negative class. \n",
    "\n",
    "Scikit-learn doesn't allow us to set the threshold directly but it does give access to the decision scores that it uses to make predictions. Instead of calling the classifier's **predict()** method, we can call its **decision_function()** method, which returns a score for each instance, and then use any threshold we want to make predictions based on those scores."
   ]
  },
  {
   "cell_type": "code",
   "execution_count": 96,
   "id": "83478938",
   "metadata": {},
   "outputs": [
    {
     "data": {
      "text/plain": [
       "array([2164.22030239])"
      ]
     },
     "execution_count": 96,
     "metadata": {},
     "output_type": "execute_result"
    }
   ],
   "source": [
    "y_scores = sgd_clf.decision_function([some_digit])\n",
    "y_scores"
   ]
  },
  {
   "cell_type": "code",
   "execution_count": 97,
   "id": "916742e3",
   "metadata": {},
   "outputs": [
    {
     "data": {
      "text/plain": [
       "array([ True])"
      ]
     },
     "execution_count": 97,
     "metadata": {},
     "output_type": "execute_result"
    }
   ],
   "source": [
    "threshold = 0\n",
    "y_some_digit_pred = (y_scores > threshold)\n",
    "y_some_digit_pred"
   ]
  },
  {
   "cell_type": "markdown",
   "id": "7d7ee3da",
   "metadata": {},
   "source": [
    "The **SGDClassifier** uses a thresold equal to 0 so the previous code returns the same result as the **predict()** method, True."
   ]
  },
  {
   "cell_type": "code",
   "execution_count": 98,
   "id": "c5237f1f",
   "metadata": {},
   "outputs": [
    {
     "data": {
      "text/plain": [
       "array([False])"
      ]
     },
     "execution_count": 98,
     "metadata": {},
     "output_type": "execute_result"
    }
   ],
   "source": [
    "threshold = 8000\n",
    "y_some_digit_pred = (y_scores > threshold)\n",
    "y_some_digit_pred"
   ]
  },
  {
   "cell_type": "markdown",
   "id": "626725f0",
   "metadata": {},
   "source": [
    "This confirms that raising the threshold decreases recall. The classifier misses the 5 label when the threshold is set to 8000"
   ]
  },
  {
   "cell_type": "markdown",
   "id": "309003fd",
   "metadata": {},
   "source": [
    "The decision of what threshold to use is made by first using the **cross_val_predict()** method to get the decision scores by specifying the method hyperparameter to *decision_function*"
   ]
  },
  {
   "cell_type": "code",
   "execution_count": 99,
   "id": "02236f8d",
   "metadata": {},
   "outputs": [],
   "source": [
    "y_scores = cross_val_predict(sgd_clf, X_train, y_train_5, cv=3, method=\"decision_function\")"
   ]
  },
  {
   "cell_type": "markdown",
   "id": "761be720",
   "metadata": {},
   "source": [
    "We use these scores to plot the **precision_recall_curve()** to compute precision and recall for all possible thresholds."
   ]
  },
  {
   "cell_type": "code",
   "execution_count": 100,
   "id": "985bb792",
   "metadata": {},
   "outputs": [],
   "source": [
    "from sklearn.metrics import precision_recall_curve\n",
    "\n",
    "precisions, recalls, thresholds = precision_recall_curve(y_train_5, y_scores)"
   ]
  },
  {
   "cell_type": "markdown",
   "id": "c7e29c54",
   "metadata": {},
   "source": [
    "Finally, we use matplotlib to plot this curve"
   ]
  },
  {
   "cell_type": "code",
   "execution_count": 101,
   "id": "9e3af086",
   "metadata": {},
   "outputs": [],
   "source": [
    "def plot_precision_recall_vs_threshold(precisions, recalls, thresholds):\n",
    "    plt.plot(thresholds, precisions[:-1], \"b--\", label=\"Precision\")\n",
    "    plt.plot(thresholds, recalls[:-1], \"g--\", label=\"Recall\")\n",
    "    plt.legend(loc=\"center right\", fontsize=16)\n",
    "    plt.xlabel(\"Threshold\", fontsize=16)\n",
    "    plt.grid(True)\n",
    "    plt.axis([-50000, 50000, 0, 1])"
   ]
  },
  {
   "cell_type": "code",
   "execution_count": 102,
   "id": "5e1b1cf5",
   "metadata": {},
   "outputs": [
    {
     "data": {
      "image/png": "[encoded data removed]",
      "text/plain": [
       "<Figure size 576x288 with 1 Axes>"
      ]
     },
     "metadata": {
      "needs_background": "light"
     },
     "output_type": "display_data"
    }
   ],
   "source": [
    "recall_90_precision = recalls[np.argmax(precisions >= 0.90)]\n",
    "threshold_90_precision = thresholds[np.argmax(precisions >= 0.90)]\n",
    "\n",
    "\n",
    "plt.figure(figsize=(8, 4))                                                                  \n",
    "plot_precision_recall_vs_threshold(precisions, recalls, thresholds)\n",
    "plt.plot([threshold_90_precision, threshold_90_precision], [0., 0.9], \"r:\")                 \n",
    "plt.plot([-50000, threshold_90_precision], [0.9, 0.9], \"r:\")                                \n",
    "plt.plot([-50000, threshold_90_precision], [recall_90_precision, recall_90_precision], \"r:\")\n",
    "plt.plot([threshold_90_precision], [0.9], \"ro\")                                             \n",
    "plt.plot([threshold_90_precision], [recall_90_precision], \"ro\")                             \n",
    "#save_fig(\"precision_recall_vs_threshold_plot\")                                              \n",
    "plt.show()"
   ]
  },
  {
   "cell_type": "markdown",
   "id": "b685b73c",
   "metadata": {},
   "source": [
    "The precision curve is bumpy towards the end because the precision may sometimes fluctuate as we increase the threshold while the recall always decreases"
   ]
  },
  {
   "cell_type": "markdown",
   "id": "884b0e47",
   "metadata": {},
   "source": [
    "Suppose we want a 90% precision for our problem, we can do that using the code below"
   ]
  },
  {
   "cell_type": "code",
   "execution_count": 103,
   "id": "7908f6a9",
   "metadata": {},
   "outputs": [],
   "source": [
    "threshold_90_precision = thresholds[np.argmax(precisions >= 0.90)]"
   ]
  },
  {
   "cell_type": "code",
   "execution_count": 104,
   "id": "ea4bfad5",
   "metadata": {},
   "outputs": [],
   "source": [
    "y_train_pred_90 = (y_scores >= threshold_90_precision)"
   ]
  },
  {
   "cell_type": "code",
   "execution_count": 105,
   "id": "a24e92be",
   "metadata": {},
   "outputs": [
    {
     "data": {
      "text/plain": [
       "0.9000345901072293"
      ]
     },
     "execution_count": 105,
     "metadata": {},
     "output_type": "execute_result"
    }
   ],
   "source": [
    "precision_score(y_train_5, y_train_pred_90)"
   ]
  },
  {
   "cell_type": "code",
   "execution_count": 106,
   "id": "fa817907",
   "metadata": {},
   "outputs": [
    {
     "data": {
      "text/plain": [
       "0.4799852425751706"
      ]
     },
     "execution_count": 106,
     "metadata": {},
     "output_type": "execute_result"
    }
   ],
   "source": [
    "recall_score(y_train_5, y_train_pred_90)"
   ]
  },
  {
   "cell_type": "markdown",
   "id": "da769493",
   "metadata": {},
   "source": [
    "### The ROC Curve"
   ]
  },
  {
   "cell_type": "markdown",
   "id": "9b1f2998",
   "metadata": {},
   "source": [
    "The *receiver operating characteristic* (ROC) curve is another common tool used with binary classifiers. It is very similar to the precision/recall curve but instead of plotting precision versus recall, the ROC curve plots the *true positive rate* (recall) against the *false positive rate*. It is equal to 1 - the *true negative rate*. The TNR is also called *specificity*. Hence, the ROC curve plots *sensitivity (recall)* versus 1 - *specificity*."
   ]
  },
  {
   "cell_type": "code",
   "execution_count": 107,
   "id": "21f71332",
   "metadata": {},
   "outputs": [],
   "source": [
    "from sklearn.metrics import roc_curve\n",
    "\n",
    "fpr, tpr, thresholds = roc_curve(y_train_5, y_scores)"
   ]
  },
  {
   "cell_type": "code",
   "execution_count": 108,
   "id": "f5dbb30f",
   "metadata": {},
   "outputs": [
    {
     "data": {
      "image/png": "[encoded data removed]",
      "text/plain": [
       "<Figure size 576x432 with 1 Axes>"
      ]
     },
     "metadata": {
      "needs_background": "light"
     },
     "output_type": "display_data"
    }
   ],
   "source": [
    "def plot_roc_curve(fpr, tpr, label=None):\n",
    "    plt.plot(fpr, tpr, linewidth=2, label=label)\n",
    "    plt.plot([0, 1], [0, 1], 'k--') # dashed diagonal\n",
    "    plt.axis([0, 1, 0, 1])                                    \n",
    "    plt.xlabel('False Positive Rate (Fall-Out)', fontsize=16) \n",
    "    plt.ylabel('True Positive Rate (Recall)', fontsize=16)    \n",
    "    plt.grid(True)                                            \n",
    "\n",
    "plt.figure(figsize=(8, 6))                                    \n",
    "plot_roc_curve(fpr, tpr)\n",
    "fpr_90 = fpr[np.argmax(tpr >= recall_90_precision)]           \n",
    "plt.plot([fpr_90, fpr_90], [0., recall_90_precision], \"r:\")   \n",
    "plt.plot([0.0, fpr_90], [recall_90_precision, recall_90_precision], \"r:\") \n",
    "plt.plot([fpr_90], [recall_90_precision], \"ro\")               \n",
    "#save_fig(\"roc_curve_plot\")                                    \n",
    "plt.show()"
   ]
  },
  {
   "cell_type": "markdown",
   "id": "a7438ab4",
   "metadata": {},
   "source": [
    "There is a trade-off again. The higher the recall (TPR), the more false positives (FPR) the classifier produces. The dotted line represents the ROC curve of a purely random classifier, a good classifier stays as far away from that line as possible (towards the top-left) corner."
   ]
  },
  {
   "cell_type": "markdown",
   "id": "47945d2a",
   "metadata": {},
   "source": [
    "One way to compare classifiers is to measure the *area under the curve* (AUC). A perfect classifier will have a ROC AUC equal to 1, while a completely random one will have 0.5."
   ]
  },
  {
   "cell_type": "code",
   "execution_count": 109,
   "id": "cefad6d4",
   "metadata": {},
   "outputs": [
    {
     "data": {
      "text/plain": [
       "0.9604938554008616"
      ]
     },
     "execution_count": 109,
     "metadata": {},
     "output_type": "execute_result"
    }
   ],
   "source": [
    "from sklearn.metrics import roc_auc_score\n",
    "\n",
    "roc_auc_score(y_train_5, y_scores)"
   ]
  },
  {
   "cell_type": "markdown",
   "id": "e37db581",
   "metadata": {},
   "source": [
    "As to what to choose as a metric between the PR curve and the ROC curve, as a rule of thumb, whenever the positive class is rare or when we care more about the false positives than false negatives, we use the PR curve. Else, we use the ROC curve."
   ]
  },
  {
   "cell_type": "markdown",
   "id": "ec7f1aa6",
   "metadata": {},
   "source": [
    "We now test a **RandomForestClassifier** instead of the SGDClassifier"
   ]
  },
  {
   "cell_type": "code",
   "execution_count": 110,
   "id": "be09ab97",
   "metadata": {},
   "outputs": [],
   "source": [
    "from sklearn.ensemble import RandomForestClassifier\n",
    "\n",
    "forest_clf = RandomForestClassifier(random_state=42)\n",
    "y_probas_forest = cross_val_predict(forest_clf, X_train, y_train_5, cv=3, method=\"predict_proba\")"
   ]
  },
  {
   "cell_type": "code",
   "execution_count": 111,
   "id": "38ca6d93",
   "metadata": {},
   "outputs": [],
   "source": [
    "y_scores_forest = y_probas_forest[:, 1] # score = proba of positive class\n",
    "fpr_forest, tpr_forest, thresholds_forest = roc_curve(y_train_5, y_scores_forest)"
   ]
  },
  {
   "cell_type": "code",
   "execution_count": 112,
   "id": "2ecb5487",
   "metadata": {},
   "outputs": [
    {
     "data": {
      "image/png": "[encoded data removed]",
      "text/plain": [
       "<Figure size 432x288 with 1 Axes>"
      ]
     },
     "metadata": {
      "needs_background": "light"
     },
     "output_type": "display_data"
    }
   ],
   "source": [
    "plt.plot(fpr, tpr, \"b:\", label=\"SGD\")\n",
    "plot_roc_curve(fpr_forest, tpr_forest, \"Random Forest\")\n",
    "plt.legend(loc=\"lower right\")\n",
    "plt.show()"
   ]
  },
  {
   "cell_type": "code",
   "execution_count": 113,
   "id": "305a7e80",
   "metadata": {},
   "outputs": [
    {
     "data": {
      "text/plain": [
       "0.9983436731328145"
      ]
     },
     "execution_count": 113,
     "metadata": {},
     "output_type": "execute_result"
    }
   ],
   "source": [
    "roc_auc_score(y_train_5, y_scores_forest)"
   ]
  },
  {
   "cell_type": "markdown",
   "id": "7052d43a",
   "metadata": {},
   "source": [
    "The **RandomForestClassifier** clearly outperforms the **SGDClassifier** in all metrics"
   ]
  },
  {
   "cell_type": "markdown",
   "id": "cb4335b0",
   "metadata": {},
   "source": [
    "# Multiclass Classification"
   ]
  },
  {
   "cell_type": "markdown",
   "id": "b2855e02",
   "metadata": {},
   "source": [
    "Whereas binary classifiers distinguish between two classes, *multiclass classifiers* (also called *multinomial classifiers*) can distinguish between more than two classes.\n",
    "\n",
    "Some algorithms (such as SGD, RF, NB) are capable of handling multiple classes natively. While others (such as Logistic Regression and SVM) are strictly binary classifiers.\n",
    "\n",
    "One way to create a system for multiclass classification is to train 10 binary classifiers one for each digit, then to classify the image, select the class with the highest score. This is called *one-versus-rest* (OvR) strategy (also called *one-versus-all*).\n",
    "\n",
    "Another strategy is to train a binary classifier for every pair of digits. This is called *one-versus-one* (OvO) strategy. \n",
    "\n",
    "Scikit-learn detects when we try to use a binary classification algoritm for a multiclass classification task, and it automatically runs OvR or OvO depending on the algorithm. "
   ]
  },
  {
   "cell_type": "code",
   "execution_count": 114,
   "id": "c7ab5199",
   "metadata": {},
   "outputs": [
    {
     "data": {
      "text/plain": [
       "array([5], dtype=uint8)"
      ]
     },
     "execution_count": 114,
     "metadata": {},
     "output_type": "execute_result"
    }
   ],
   "source": [
    "from sklearn.svm import SVC\n",
    "\n",
    "svm_clf = SVC()\n",
    "svm_clf.fit(X_train, y_train) \n",
    "svm_clf.predict([some_digit])"
   ]
  },
  {
   "cell_type": "markdown",
   "id": "d88d7784",
   "metadata": {},
   "source": [
    "This code trains the SVC on all classes (0 to 9), instead of 5 versus rest. Then it makes a correct prediction. It uses the OvO strategy under the hood to compute this. \n",
    "\n",
    "If we call the **decision_function()** method, we see it computes 10 scores instead of 1"
   ]
  },
  {
   "cell_type": "code",
   "execution_count": 115,
   "id": "49c0eca7",
   "metadata": {},
   "outputs": [
    {
     "data": {
      "text/plain": [
       "array([[ 1.72501977,  2.72809088,  7.2510018 ,  8.3076379 , -0.31087254,\n",
       "         9.3132482 ,  1.70975103,  2.76765202,  6.23049537,  4.84771048]])"
      ]
     },
     "execution_count": 115,
     "metadata": {},
     "output_type": "execute_result"
    }
   ],
   "source": [
    "some_digit_scores = svm_clf.decision_function([some_digit])\n",
    "some_digit_scores"
   ]
  },
  {
   "cell_type": "code",
   "execution_count": 116,
   "id": "55b6ad17",
   "metadata": {},
   "outputs": [
    {
     "data": {
      "text/plain": [
       "5"
      ]
     },
     "execution_count": 116,
     "metadata": {},
     "output_type": "execute_result"
    }
   ],
   "source": [
    "np.argmax(some_digit_scores)"
   ]
  },
  {
   "cell_type": "code",
   "execution_count": 117,
   "id": "85b068bd",
   "metadata": {},
   "outputs": [
    {
     "data": {
      "text/plain": [
       "array([0, 1, 2, 3, 4, 5, 6, 7, 8, 9], dtype=uint8)"
      ]
     },
     "execution_count": 117,
     "metadata": {},
     "output_type": "execute_result"
    }
   ],
   "source": [
    "svm_clf.classes_"
   ]
  },
  {
   "cell_type": "markdown",
   "id": "2f53c2fe",
   "metadata": {},
   "source": [
    "If we want to force Scikit-Learn to use OvO or OvR, we can use the **OneVsOneClassifier** or **OneVsRestClassifier** classes. Simply create an instance and pass a classifier to its constructor."
   ]
  },
  {
   "cell_type": "code",
   "execution_count": 118,
   "id": "ed67f27b",
   "metadata": {},
   "outputs": [
    {
     "data": {
      "text/plain": [
       "OneVsRestClassifier(estimator=SVC())"
      ]
     },
     "execution_count": 118,
     "metadata": {},
     "output_type": "execute_result"
    }
   ],
   "source": [
    "from sklearn.multiclass import OneVsRestClassifier\n",
    "\n",
    "ovr_clf = OneVsRestClassifier(SVC())\n",
    "ovr_clf.fit(X_train, y_train)"
   ]
  },
  {
   "cell_type": "code",
   "execution_count": 119,
   "id": "7ba15e2b",
   "metadata": {},
   "outputs": [
    {
     "data": {
      "text/plain": [
       "array([5], dtype=uint8)"
      ]
     },
     "execution_count": 119,
     "metadata": {},
     "output_type": "execute_result"
    }
   ],
   "source": [
    "ovr_clf.predict([some_digit])"
   ]
  },
  {
   "cell_type": "code",
   "execution_count": 120,
   "id": "52cbc306",
   "metadata": {},
   "outputs": [
    {
     "data": {
      "text/plain": [
       "10"
      ]
     },
     "execution_count": 120,
     "metadata": {},
     "output_type": "execute_result"
    }
   ],
   "source": [
    "len(ovr_clf.estimators_)"
   ]
  },
  {
   "cell_type": "code",
   "execution_count": 121,
   "id": "032447b8",
   "metadata": {},
   "outputs": [
    {
     "data": {
      "text/plain": [
       "array([3], dtype=uint8)"
      ]
     },
     "execution_count": 121,
     "metadata": {},
     "output_type": "execute_result"
    }
   ],
   "source": [
    "sgd_clf.fit(X_train, y_train)\n",
    "sgd_clf.predict([some_digit])"
   ]
  },
  {
   "cell_type": "code",
   "execution_count": 122,
   "id": "a37e5acf",
   "metadata": {},
   "outputs": [
    {
     "data": {
      "text/plain": [
       "array([[-31893.03095419, -34419.69069632,  -9530.63950739,\n",
       "          1823.73154031, -22320.14822878,  -1385.80478895,\n",
       "        -26188.91070951, -16147.51323997,  -4604.35491274,\n",
       "        -12050.767298  ]])"
      ]
     },
     "execution_count": 122,
     "metadata": {},
     "output_type": "execute_result"
    }
   ],
   "source": [
    "sgd_clf.decision_function([some_digit])"
   ]
  },
  {
   "cell_type": "code",
   "execution_count": 123,
   "id": "81a31b0f",
   "metadata": {},
   "outputs": [
    {
     "data": {
      "text/plain": [
       "array([0.87365, 0.85835, 0.8689 ])"
      ]
     },
     "execution_count": 123,
     "metadata": {},
     "output_type": "execute_result"
    }
   ],
   "source": [
    "cross_val_score(sgd_clf, X_train, y_train, cv=3, scoring=\"accuracy\")"
   ]
  },
  {
   "cell_type": "code",
   "execution_count": 124,
   "id": "a8df50f5",
   "metadata": {},
   "outputs": [
    {
     "data": {
      "text/plain": [
       "array([0.8983, 0.891 , 0.9018])"
      ]
     },
     "execution_count": 124,
     "metadata": {},
     "output_type": "execute_result"
    }
   ],
   "source": [
    "from sklearn.preprocessing import StandardScaler\n",
    "\n",
    "scaler = StandardScaler()\n",
    "X_train_scaled = scaler.fit_transform(X_train.astype(np.float64))\n",
    "cross_val_score(sgd_clf, X_train_scaled, y_train, cv=3, scoring=\"accuracy\")"
   ]
  },
  {
   "cell_type": "markdown",
   "id": "3253b6f3",
   "metadata": {},
   "source": [
    "# Error Analysis"
   ]
  },
  {
   "cell_type": "markdown",
   "id": "f6d66df5",
   "metadata": {},
   "source": [
    "We first generate the confusion matrix"
   ]
  },
  {
   "cell_type": "code",
   "execution_count": 125,
   "id": "4ab54357",
   "metadata": {},
   "outputs": [
    {
     "data": {
      "text/plain": [
       "array([[5577,    0,   22,    5,    8,   43,   36,    6,  225,    1],\n",
       "       [   0, 6400,   37,   24,    4,   44,    4,    7,  212,   10],\n",
       "       [  27,   27, 5220,   92,   73,   27,   67,   36,  378,   11],\n",
       "       [  22,   17,  117, 5227,    2,  203,   27,   40,  403,   73],\n",
       "       [  12,   14,   41,    9, 5182,   12,   34,   27,  347,  164],\n",
       "       [  27,   15,   30,  168,   53, 4444,   75,   14,  535,   60],\n",
       "       [  30,   15,   42,    3,   44,   97, 5552,    3,  131,    1],\n",
       "       [  21,   10,   51,   30,   49,   12,    3, 5684,  195,  210],\n",
       "       [  17,   63,   48,   86,    3,  126,   25,   10, 5429,   44],\n",
       "       [  25,   18,   30,   64,  118,   36,    1,  179,  371, 5107]])"
      ]
     },
     "execution_count": 125,
     "metadata": {},
     "output_type": "execute_result"
    }
   ],
   "source": [
    "y_train_pred = cross_val_predict(sgd_clf, X_train_scaled, y_train, cv=3)\n",
    "conf_mx = confusion_matrix(y_train, y_train_pred)\n",
    "conf_mx"
   ]
  },
  {
   "cell_type": "markdown",
   "id": "893a4e1f",
   "metadata": {},
   "source": [
    "Having the numbers is not very informative, it is better to get a pictorial representation"
   ]
  },
  {
   "cell_type": "code",
   "execution_count": 126,
   "id": "9ea9755c",
   "metadata": {},
   "outputs": [
    {
     "data": {
      "image/png": "[encoded data removed]",
      "text/plain": [
       "<Figure size 288x288 with 1 Axes>"
      ]
     },
     "metadata": {
      "needs_background": "light"
     },
     "output_type": "display_data"
    }
   ],
   "source": [
    "plt.matshow(conf_mx, cmap=plt.cm.gray)\n",
    "plt.show()"
   ]
  },
  {
   "cell_type": "markdown",
   "id": "22865d02",
   "metadata": {},
   "source": [
    "Since we do not want a skewed confusion matrix due to skewness in the data, we divide the confusion matrix by the number of instances of each class to get a normalized confusion matrix"
   ]
  },
  {
   "cell_type": "code",
   "execution_count": 127,
   "id": "96106af7",
   "metadata": {},
   "outputs": [],
   "source": [
    "row_sums = conf_mx.sum(axis=1, keepdims=True)\n",
    "norm_conf_mx = conf_mx / row_sums"
   ]
  },
  {
   "cell_type": "code",
   "execution_count": 128,
   "id": "ab69fd5e",
   "metadata": {},
   "outputs": [
    {
     "data": {
      "image/png": "[encoded data removed]",
      "text/plain": [
       "<Figure size 288x288 with 1 Axes>"
      ]
     },
     "metadata": {
      "needs_background": "light"
     },
     "output_type": "display_data"
    }
   ],
   "source": [
    "np.fill_diagonal(norm_conf_mx, 0)\n",
    "plt.matshow(norm_conf_mx, cmap=plt.cm.gray)\n",
    "plt.show()"
   ]
  },
  {
   "cell_type": "markdown",
   "id": "e0d4f543",
   "metadata": {},
   "source": [
    "This matrix tells us that numbers often get mis-predicted as 8s looking at the 8 column but the true 8s are properly classified as 8s in most cases by looking at row 8. \n",
    "\n",
    "The confusion matrix gives us a good idea on what errors we should analyze (the 8s mentioned above, which can be resolved by adding some features by counting the number of closed loops and 3s and 5s often getting mis-predicted)"
   ]
  },
  {
   "cell_type": "code",
   "execution_count": 131,
   "id": "93b23d7c",
   "metadata": {},
   "outputs": [],
   "source": [
    "def plot_digits(instances, images_per_row=10, **options):\n",
    "    size = 28\n",
    "    images_per_row = min(len(instances), images_per_row)\n",
    "    images = [instance.reshape(size,size) for instance in instances]\n",
    "    n_rows = (len(instances) - 1) // images_per_row + 1\n",
    "    row_images = []\n",
    "    n_empty = n_rows * images_per_row - len(instances)\n",
    "    images.append(np.zeros((size, size * n_empty)))\n",
    "    for row in range(n_rows):\n",
    "        rimages = images[row * images_per_row : (row + 1) * images_per_row]\n",
    "        row_images.append(np.concatenate(rimages, axis=1))\n",
    "    image = np.concatenate(row_images, axis=0)\n",
    "    plt.imshow(image, cmap = mpl.cm.binary, **options)\n",
    "    plt.axis(\"off\")"
   ]
  },
  {
   "cell_type": "markdown",
   "id": "b380053c",
   "metadata": {},
   "source": [
    "We plot the 3s and 5s to see why the classifier is misclassifying them so much and realize that a lot of the instances have poor handwriting causing this. The line connecting the upper line of 5 to the lower curve seems like a good distinguishing feature though."
   ]
  },
  {
   "cell_type": "code",
   "execution_count": 132,
   "id": "58c0cf74",
   "metadata": {},
   "outputs": [
    {
     "data": {
      "image/png": "[encoded data removed]",
      "text/plain": [
       "<Figure size 576x576 with 4 Axes>"
      ]
     },
     "metadata": {
      "needs_background": "light"
     },
     "output_type": "display_data"
    }
   ],
   "source": [
    "cl_a, cl_b = 3, 5\n",
    "X_aa = X_train[(y_train == cl_a) & (y_train_pred == cl_a)]\n",
    "X_ab = X_train[(y_train == cl_a) & (y_train_pred == cl_b)]\n",
    "X_ba = X_train[(y_train == cl_b) & (y_train_pred == cl_a)]\n",
    "X_bb = X_train[(y_train == cl_b) & (y_train_pred == cl_b)]\n",
    "\n",
    "plt.figure(figsize=(8,8))\n",
    "plt.subplot(221); plot_digits(X_aa[:25], images_per_row=5)\n",
    "plt.subplot(222); plot_digits(X_ab[:25], images_per_row=5)\n",
    "plt.subplot(223); plot_digits(X_ba[:25], images_per_row=5)\n",
    "plt.subplot(224); plot_digits(X_bb[:25], images_per_row=5)\n",
    "plt.show()"
   ]
  },
  {
   "cell_type": "markdown",
   "id": "dcebbb1f",
   "metadata": {},
   "source": [
    "# Multilabel Classification"
   ]
  },
  {
   "cell_type": "markdown",
   "id": "2f89b18b",
   "metadata": {},
   "source": [
    "Until now each instance has only been assigned to one class. However, we may come across problems where we need to output multiple classes for each instance like in a face recognition system needed to classify a set of images as three different people for example ([1, 0, 1]). Such a classification problem, that outputs multiple binary tags is called *multilabel classification*."
   ]
  },
  {
   "cell_type": "markdown",
   "id": "6d4f1758",
   "metadata": {},
   "source": [
    "We test an example of classifying an instance into two labels. One is if a number is larger than 7 and second if a number is odd."
   ]
  },
  {
   "cell_type": "code",
   "execution_count": 133,
   "id": "6af6c0d6",
   "metadata": {},
   "outputs": [
    {
     "data": {
      "text/plain": [
       "KNeighborsClassifier()"
      ]
     },
     "execution_count": 133,
     "metadata": {},
     "output_type": "execute_result"
    }
   ],
   "source": [
    "from sklearn.neighbors import KNeighborsClassifier\n",
    "\n",
    "y_train_large = (y_train >= 7)\n",
    "y_train_odd = (y_train % 2 == 1)\n",
    "y_multilabel = np.c_[y_train_large, y_train_odd]\n",
    "\n",
    "knn_clf = KNeighborsClassifier()\n",
    "knn_clf.fit(X_train, y_multilabel)"
   ]
  },
  {
   "cell_type": "code",
   "execution_count": 134,
   "id": "d343ceb4",
   "metadata": {},
   "outputs": [
    {
     "data": {
      "text/plain": [
       "array([[False,  True]])"
      ]
     },
     "execution_count": 134,
     "metadata": {},
     "output_type": "execute_result"
    }
   ],
   "source": [
    "knn_clf.predict([some_digit])"
   ]
  },
  {
   "cell_type": "markdown",
   "id": "803d3de3",
   "metadata": {},
   "source": [
    "One way to evaluate multilabel classifiers is to compute the individual F1 score for each label then compute the average of the F1 scores for all labels as shown below."
   ]
  },
  {
   "cell_type": "code",
   "execution_count": 135,
   "id": "913b6363",
   "metadata": {},
   "outputs": [
    {
     "data": {
      "text/plain": [
       "0.976410265560605"
      ]
     },
     "execution_count": 135,
     "metadata": {},
     "output_type": "execute_result"
    }
   ],
   "source": [
    "y_train_knn_pred = cross_val_predict(knn_clf, X_train, y_multilabel, cv=3)\n",
    "f1_score(y_multilabel, y_train_knn_pred, average=\"macro\")"
   ]
  },
  {
   "cell_type": "markdown",
   "id": "7794b26d",
   "metadata": {},
   "source": [
    "This assumes that all labels are equally important. However, if we want to evaluate skewed data, we change the hyperparameter average to *support* instead of macro."
   ]
  },
  {
   "cell_type": "markdown",
   "id": "7424fc14",
   "metadata": {},
   "source": [
    "# Multioutput Classification"
   ]
  },
  {
   "cell_type": "markdown",
   "id": "13659ddb",
   "metadata": {},
   "source": [
    "*Multioutput-multiclass classification* or simply *Multioutput classification* is a generalization of multilabel classification where each label can have multiple classes instead of binary classes.\n",
    "\n",
    "To illustrate this, we create a problem by adding noise to the data and trying to recover the original image. Notice that the output is multilabel (one label per pixel) and multiclass (pixel intensity ranges from 0 to 255)."
   ]
  },
  {
   "cell_type": "code",
   "execution_count": 136,
   "id": "35c8c716",
   "metadata": {},
   "outputs": [],
   "source": [
    "noise = np.random.randint(0, 100, (len(X_train), 784))\n",
    "X_train_mod = X_train + noise\n",
    "noise = np.random.randint(0, 100, (len(X_test), 784))\n",
    "X_test_mod = X_test + noise\n",
    "y_train_mod = X_train\n",
    "y_test_mod = X_test"
   ]
  },
  {
   "cell_type": "code",
   "execution_count": 140,
   "id": "09918676",
   "metadata": {},
   "outputs": [
    {
     "data": {
      "image/png": "[encoded data removed]",
      "text/plain": [
       "<Figure size 432x288 with 1 Axes>"
      ]
     },
     "metadata": {
      "needs_background": "light"
     },
     "output_type": "display_data"
    }
   ],
   "source": [
    "knn_clf.fit(X_train_mod, y_train_mod)\n",
    "clean_digit = knn_clf.predict([X_test_mod[4]])\n",
    "plot_digits(clean_digit)"
   ]
  },
  {
   "cell_type": "markdown",
   "id": "ca184174",
   "metadata": {},
   "source": [
    "We try to build a classifier here with over 97% accuracy on the test set by fine tuning the hyperparameters using GridSearchCV"
   ]
  },
  {
   "cell_type": "code",
   "execution_count": 141,
   "id": "4e550e79",
   "metadata": {},
   "outputs": [
    {
     "data": {
      "text/plain": [
       "GridSearchCV(cv=3, estimator=KNeighborsClassifier(),\n",
       "             param_grid=[{'n_neighbors': [5, 10, 50, 100],\n",
       "                          'weights': ['uniform', 'distance']}],\n",
       "             return_train_score=True, scoring='accuracy')"
      ]
     },
     "execution_count": 141,
     "metadata": {},
     "output_type": "execute_result"
    }
   ],
   "source": [
    "from sklearn.model_selection import GridSearchCV\n",
    "\n",
    "param_grid = [\n",
    "    {\"weights\":[\"uniform\", \"distance\"], \"n_neighbors\":[5, 10, 50, 100]}\n",
    "]\n",
    "\n",
    "knn_clf_new = KNeighborsClassifier()\n",
    "\n",
    "grid_search = GridSearchCV(knn_clf_new, param_grid, cv=3, scoring=\"accuracy\", return_train_score=True)\n",
    "\n",
    "grid_search.fit(X_train, y_train)"
   ]
  },
  {
   "cell_type": "code",
   "execution_count": 142,
   "id": "fd684b10",
   "metadata": {},
   "outputs": [
    {
     "data": {
      "text/plain": [
       "KNeighborsClassifier(weights='distance')"
      ]
     },
     "execution_count": 142,
     "metadata": {},
     "output_type": "execute_result"
    }
   ],
   "source": [
    "grid_search.best_estimator_"
   ]
  },
  {
   "cell_type": "code",
   "execution_count": 143,
   "id": "85279542",
   "metadata": {},
   "outputs": [
    {
     "data": {
      "text/plain": [
       "0.9686"
      ]
     },
     "execution_count": 143,
     "metadata": {},
     "output_type": "execute_result"
    }
   ],
   "source": [
    "grid_search.best_score_"
   ]
  },
  {
   "cell_type": "code",
   "execution_count": 145,
   "id": "bd668ffc",
   "metadata": {},
   "outputs": [
    {
     "data": {
      "text/plain": [
       "KNeighborsClassifier(weights='distance')"
      ]
     },
     "execution_count": 145,
     "metadata": {},
     "output_type": "execute_result"
    }
   ],
   "source": [
    "knn_clf_new = KNeighborsClassifier(weights=\"distance\", n_neighbors=5)\n",
    "knn_clf_new.fit(X_train, y_train)"
   ]
  },
  {
   "cell_type": "code",
   "execution_count": 146,
   "id": "c48543cb",
   "metadata": {},
   "outputs": [],
   "source": [
    "y_test_pred = knn_clf_new.predict(X_test)"
   ]
  },
  {
   "cell_type": "code",
   "execution_count": 147,
   "id": "102f05e1",
   "metadata": {},
   "outputs": [
    {
     "data": {
      "text/plain": [
       "0.9691"
      ]
     },
     "execution_count": 147,
     "metadata": {},
     "output_type": "execute_result"
    }
   ],
   "source": [
    "from sklearn.metrics import accuracy_score\n",
    "\n",
    "accuracy_score(y_test, y_test_pred)"
   ]
  },
  {
   "cell_type": "code",
   "execution_count": null,
   "id": "77909e24",
   "metadata": {},
   "outputs": [],
   "source": []
  }
 ],
 "metadata": {
  "kernelspec": {
   "display_name": "Python 3 (ipykernel)",
   "language": "python",
   "name": "python3"
  },
  "language_info": {
   "codemirror_mode": {
    "name": "ipython",
    "version": 3
   },
   "file_extension": ".py",
   "mimetype": "text/x-python",
   "name": "python",
   "nbconvert_exporter": "python",
   "pygments_lexer": "ipython3",
   "version": "3.8.10"
  }
 },
 "nbformat": 4,
 "nbformat_minor": 5
}
