{
 "cells": [
  {
   "cell_type": "markdown",
   "id": "68591bf0",
   "metadata": {},
   "source": [
    "# Linear Regression"
   ]
  },
  {
   "cell_type": "markdown",
   "id": "b3c65e09",
   "metadata": {},
   "source": [
    "### The Normal Equation"
   ]
  },
  {
   "cell_type": "code",
   "execution_count": 1,
   "id": "3dd7b850",
   "metadata": {},
   "outputs": [],
   "source": [
    "import numpy as np\n",
    "import matplotlib.pyplot as plt"
   ]
  },
  {
   "cell_type": "markdown",
   "id": "fca51cf5",
   "metadata": {},
   "source": [
    "Generating some linear looking data to test the Normal Equation "
   ]
  },
  {
   "cell_type": "code",
   "execution_count": 2,
   "id": "32cb6c94",
   "metadata": {},
   "outputs": [],
   "source": [
    "X = 2 * np.random.rand(100, 1)\n",
    "y = 4 + 3 * X + np.random.randn(100, 1)"
   ]
  },
  {
   "cell_type": "code",
   "execution_count": 3,
   "id": "6ff17228",
   "metadata": {},
   "outputs": [
    {
     "data": {
      "image/png": "[encoded data removed]",
      "text/plain": [
       "<Figure size 432x288 with 1 Axes>"
      ]
     },
     "metadata": {
      "needs_background": "light"
     },
     "output_type": "display_data"
    }
   ],
   "source": [
    "%matplotlib inline\n",
    "plt.scatter(X, y)\n",
    "plt.show()"
   ]
  },
  {
   "cell_type": "markdown",
   "id": "8e58851d",
   "metadata": {},
   "source": [
    "Using the **inv()** function from NumPy's *linalg* module, to compute the inverse of a matrix and the **dot()** method for matrix multiplication"
   ]
  },
  {
   "cell_type": "code",
   "execution_count": 4,
   "id": "7f0d62c6",
   "metadata": {},
   "outputs": [],
   "source": [
    "X_b = np.c_[np.ones((100, 1)), X] # add x0 = 1 to each instance\n",
    "theta_best = np.linalg.inv(X_b.T.dot(X_b)).dot(X_b.T).dot(y)"
   ]
  },
  {
   "cell_type": "markdown",
   "id": "5fe1ae16",
   "metadata": {},
   "source": [
    "The fucntion that we used to generate the data is y = 4 + 3x + Gaussian noise.\n",
    "\n",
    "The parameters the normal equation found are:"
   ]
  },
  {
   "cell_type": "code",
   "execution_count": 5,
   "id": "3bc94be1",
   "metadata": {},
   "outputs": [
    {
     "data": {
      "text/plain": [
       "array([[4.12821347],\n",
       "       [2.94100515]])"
      ]
     },
     "execution_count": 5,
     "metadata": {},
     "output_type": "execute_result"
    }
   ],
   "source": [
    "theta_best"
   ]
  },
  {
   "cell_type": "markdown",
   "id": "00db15ad",
   "metadata": {},
   "source": [
    "We would have hoped for $\\theta_{0}$ to be exactly 4 instead of 4.128... and for $\\theta_{1}$ to be exactly 3 instead of 2.941... but the Gaussian noise made it impossible to recover the exact parameters of the original function."
   ]
  },
  {
   "cell_type": "markdown",
   "id": "6f916281",
   "metadata": {},
   "source": [
    "Now we can make predictions using $\\hat{\\theta}$:"
   ]
  },
  {
   "cell_type": "code",
   "execution_count": 6,
   "id": "809e145b",
   "metadata": {},
   "outputs": [
    {
     "data": {
      "text/plain": [
       "array([[ 4.12821347],\n",
       "       [10.01022377]])"
      ]
     },
     "execution_count": 6,
     "metadata": {},
     "output_type": "execute_result"
    }
   ],
   "source": [
    "X_new = np.array([[0], [2]])\n",
    "X_new_b = np.c_[np.ones((2, 1)), X_new] # add x0 = 1 to each instance\n",
    "y_predict = X_new_b.dot(theta_best)\n",
    "y_predict"
   ]
  },
  {
   "cell_type": "markdown",
   "id": "a5929a8c",
   "metadata": {},
   "source": [
    "Plotting the model's predictions"
   ]
  },
  {
   "cell_type": "code",
   "execution_count": 7,
   "id": "3b30fe78",
   "metadata": {},
   "outputs": [
    {
     "data": {
      "image/png": "[encoded data removed]",
      "text/plain": [
       "<Figure size 432x288 with 1 Axes>"
      ]
     },
     "metadata": {
      "needs_background": "light"
     },
     "output_type": "display_data"
    }
   ],
   "source": [
    "plt.plot(X_new, y_predict, \"r-\")\n",
    "plt.plot(X, y, \"b.\")\n",
    "plt.axis([0, 2, 0, 15])\n",
    "plt.show()"
   ]
  },
  {
   "cell_type": "markdown",
   "id": "e390362d",
   "metadata": {},
   "source": [
    "We can perform LinearRegression using Scikit-Learn as well:\n",
    "\n",
    "(Scikit-Learn separates the bias term (*intercept_*) from the feature weights (*coef_*))"
   ]
  },
  {
   "cell_type": "code",
   "execution_count": 8,
   "id": "37deba54",
   "metadata": {},
   "outputs": [
    {
     "data": {
      "text/plain": [
       "(array([4.12821347]), array([[2.94100515]]))"
      ]
     },
     "execution_count": 8,
     "metadata": {},
     "output_type": "execute_result"
    }
   ],
   "source": [
    "from sklearn.linear_model import LinearRegression\n",
    "\n",
    "lin_reg = LinearRegression()\n",
    "lin_reg.fit(X, y)\n",
    "lin_reg.intercept_, lin_reg.coef_"
   ]
  },
  {
   "cell_type": "code",
   "execution_count": 9,
   "id": "e3afccbb",
   "metadata": {},
   "outputs": [
    {
     "data": {
      "text/plain": [
       "array([[ 4.12821347],\n",
       "       [10.01022377]])"
      ]
     },
     "execution_count": 9,
     "metadata": {},
     "output_type": "execute_result"
    }
   ],
   "source": [
    "lin_reg.predict(X_new)"
   ]
  },
  {
   "cell_type": "markdown",
   "id": "2d09ebd8",
   "metadata": {},
   "source": [
    "The **LinearRegression** class is based on the *scipy.linalg.lstsq()* function (least squares function), which can be called directly like so:"
   ]
  },
  {
   "cell_type": "code",
   "execution_count": 10,
   "id": "b6c37e78",
   "metadata": {},
   "outputs": [
    {
     "data": {
      "text/plain": [
       "array([[4.12821347],\n",
       "       [2.94100515]])"
      ]
     },
     "execution_count": 10,
     "metadata": {},
     "output_type": "execute_result"
    }
   ],
   "source": [
    "theta_best_svd, residuals, rank, s = np.linalg.lstsq(X_b, y, rcond=1e-6)\n",
    "theta_best_svd"
   ]
  },
  {
   "cell_type": "markdown",
   "id": "cd3dfbe9",
   "metadata": {},
   "source": [
    "This function computes $\\hat{\\theta} = X^{+} y$, where $X^{+}$ is the *pseudoinverse* of **X** (specifically the Moore-Penrose inverse). \n",
    "\n",
    "We can use the *np.linalg.pinv()* function to compute the pseudoinverse directly:"
   ]
  },
  {
   "cell_type": "code",
   "execution_count": 11,
   "id": "ad138b77",
   "metadata": {},
   "outputs": [
    {
     "data": {
      "text/plain": [
       "array([[4.12821347],\n",
       "       [2.94100515]])"
      ]
     },
     "execution_count": 11,
     "metadata": {},
     "output_type": "execute_result"
    }
   ],
   "source": [
    "np.linalg.pinv(X_b).dot(y)"
   ]
  },
  {
   "cell_type": "markdown",
   "id": "889b6305",
   "metadata": {},
   "source": [
    "The pseudoinverse itself is computed using a standard matrix factorization technique called *Singular Value Decomposition* (SVD) that can decompose the training set matrix **X** into the matrix multiplication of three matrices **$U \\Sigma V^{T}$** (*numpy.linalg.svd()*). The pseudoinverse is computed as $X^{+} = V \\Sigma^{+} U^{T}$. To compute the matrix $\\Sigma^{+}$, the algorithm takes $\\Sigma$ and sets to zero all values smaller than a tiny threshold value, then it replaces all the nonzero values with their inverse, and finally it transposes the resulting matrix. This approach is more efficient than computing the Normal Equation, plus it handles edge cases nicely. The Normal Equation may not work if the matrix $X^{T}X$ is not invertible (singluar), such as if *m < n* or if some features are redundant, but the pseudoinverse is always defined.  "
   ]
  },
  {
   "cell_type": "markdown",
   "id": "7ee21c77",
   "metadata": {},
   "source": [
    "### Computational Complexity"
   ]
  },
  {
   "cell_type": "markdown",
   "id": "98e19553",
   "metadata": {},
   "source": [
    "The Normal Equation computes the inverse of $X^{T}X$, which is an (n+1) x (n+1) matrix (n is the number of features). The computation complexity of inverting such a matrix is usually about $O(n^{2.4})$ to $O(n^{3})$, depending on the implementation. If we double the number of features it will multiply the computation time by roughly $2^{2.4} = 5.3$ to $2^{3} = 8$.\n",
    "\n",
    "The SVD approach used the the *LinearRegression* class is about $O(n^{2})$. If we double the number of features, it increases computation time by roughly 4.\n",
    "\n",
    "Both the Normal Equation and SVD approach get very slow when the number of features grow large. On the positive side, both are linear with regard to the number of instances in the training set, so they can handle large training sets efficiently provided they can fit in memory.\n",
    "\n",
    "Once we have trained our LinearRegression model (using Normal Equation or any other method), predictions are very fast. The computational complexity is linear with respect to both number of instances we want to make predictions on and the number of features. \n",
    "\n",
    "We shall look at a different way to train our Linear Regression model, one that is suited for cases where there are a large number of features or too many training instances to fit in memory."
   ]
  },
  {
   "cell_type": "markdown",
   "id": "d06ddbfd",
   "metadata": {},
   "source": [
    "# Gradient Descent"
   ]
  },
  {
   "cell_type": "markdown",
   "id": "bfc9b597",
   "metadata": {},
   "source": [
    "Gradient Descent works by taking a step in the direction of the steepest descent. It works very well on convex functions (MSE) and can find the global minimum if we wait long enough and the learning rate is not too large. \n",
    "\n",
    "Gradient Descent may not work as well in functions that have plateaus and several local minima. The random initialization may be such that it can get stcuk in local minima or may get stuck slowly descending a plateau.\n",
    "\n",
    "When using Gradient Descent, we must ensure that all features have a similar scale (using Scikit-Learn's *StandardScaler*), or else Gradient Descent will take much longer to converge."
   ]
  },
  {
   "cell_type": "markdown",
   "id": "1e5b8144",
   "metadata": {},
   "source": [
    "### Batch Gradient Descent"
   ]
  },
  {
   "cell_type": "markdown",
   "id": "f534ac38",
   "metadata": {},
   "source": [
    "To implement Gradient Descent, we need to compute the gradient of the cost function with respect to each model parameter $\\theta_{j}$. This is called a *partial derivative*. This is given by:\n",
    "\n",
    "$\\frac{\\partial}{\\partial \\theta_{j}} MSE(\\theta) = \\frac{2}{m} \\sum_{i=1}^{m} (\\theta^{T} x^{(i)} - y^{(i)}) x_{j}^{(i)}$\n",
    "\n",
    "Instead of computing these partial derivatives individually, we can use the gradient vector form denoted $\\triangledown_{\\theta} MSE(\\theta) = \\frac{2}{m} X^{T} (X \\theta - y) $"
   ]
  },
  {
   "cell_type": "markdown",
   "id": "9e2061c4",
   "metadata": {},
   "source": [
    "This formula involves calculations over the full training set **X** at each Gradient Step. This is why the algorithm is called *Batch Gradient Descent*. This makes it awfully slow on very large training sets."
   ]
  },
  {
   "cell_type": "markdown",
   "id": "3bfb2e1f",
   "metadata": {},
   "source": [
    "Once we have the gradient vector, calculating the updated parameters is as simple as:\n",
    "\n",
    "$\\theta^{(next step)} = \\theta - \\eta \\triangledown_{\\theta} MSE (\\theta)$"
   ]
  },
  {
   "cell_type": "code",
   "execution_count": 12,
   "id": "6862fab9",
   "metadata": {},
   "outputs": [],
   "source": [
    "eta = 0.1 # learning rate\n",
    "n_iterations = 1000\n",
    "m = 100\n",
    "\n",
    "theta = np.random.randn(2, 1) #random intialization\n",
    "\n",
    "for iteration in range(n_iterations):\n",
    "    gradients = 2/m * X_b.T.dot(X_b.dot(theta) - y)\n",
    "    theta = theta - eta * gradients"
   ]
  },
  {
   "cell_type": "markdown",
   "id": "194006bd",
   "metadata": {},
   "source": [
    "The parameters are the exact same as found by the Normal Equation."
   ]
  },
  {
   "cell_type": "code",
   "execution_count": 13,
   "id": "e12997d6",
   "metadata": {},
   "outputs": [
    {
     "data": {
      "text/plain": [
       "array([[4.12821347],\n",
       "       [2.94100515]])"
      ]
     },
     "execution_count": 13,
     "metadata": {},
     "output_type": "execute_result"
    }
   ],
   "source": [
    "theta"
   ]
  },
  {
   "cell_type": "markdown",
   "id": "ab0ac0e9",
   "metadata": {},
   "source": [
    "To find a good learning rate, we can use Grid Search with a limited number of iterations so that grid search can eliminate models that take too long to converge.\n",
    "\n",
    "As for the number of iterations, we can set a very large number of iterations and interrupt the algorithm when the gradient vector becomes tiny, i.e., when its norm becomes smaller than a tiny number $\\epsilon$ (called the *tolerance*), because when this happens, Gradient Descent has almost reached the minimum."
   ]
  },
  {
   "cell_type": "markdown",
   "id": "fc2afb5c",
   "metadata": {},
   "source": [
    "### Stochastic Gradient Descent"
   ]
  },
  {
   "cell_type": "markdown",
   "id": "30f9cf1a",
   "metadata": {},
   "source": [
    "The problem with Batch Gradient Descent was that we were computing the gradient vector for the entire training set at a time which made it very slow. However, in Stochastic Gradient Descent, we only train one instance at a time. This makes computation significantly faster and can be carried out as an out-of-core algorithm too.\n",
    "\n",
    "On the other hand, due to its stochastic (random) nature, SGD is much less regular than Batch GD. Instead of gently decreasing until it reaches the minimum, the cost function will bounce up and down, decreasing only on average. Over time, it will end up very close to the minimum, but once it gets there, it will continue to bounce around, never settling down. So once the algorithm stops, the final parameter values are good but not optimal.\n",
    "\n",
    "When the cost function is very irregular (not perfectly convex like the MSE), this can actually help the algorithm jump out of local minima, so SGD has a better chance of finding the global minima than Batch GD.\n",
    "\n",
    "Thus, randomness is good to escape from local optima but bad because it means that the algorithm can never settle at the minimum. One solution to this dilemma is to gradually decrease the learning rate (similar to *simulated annealing*). The function that determines the learning rate at each iteration is called the *learning schedule*. "
   ]
  },
  {
   "cell_type": "code",
   "execution_count": 14,
   "id": "ab8ddff1",
   "metadata": {},
   "outputs": [],
   "source": [
    "n_epochs = 50\n",
    "t0, t1 = 5, 50 # learning schedule hyperparameters\n",
    "\n",
    "def learning_schedule(t):\n",
    "    return t0 / (t+t1)\n",
    "\n",
    "theta = np.random.randn(2, 1) # random initialization\n",
    "\n",
    "for epoch in range(n_epochs):\n",
    "    for i in range(m):\n",
    "        random_index = np.random.randint(m)\n",
    "        xi = X_b[random_index:random_index+1]\n",
    "        yi = y[random_index:random_index+1]\n",
    "        gradients = 2 * xi.T.dot(xi.dot(theta) - yi)\n",
    "        eta = learning_schedule(epoch * m + i)\n",
    "        theta = theta - eta * gradients"
   ]
  },
  {
   "cell_type": "markdown",
   "id": "b04c90e3",
   "metadata": {},
   "source": [
    "By convention, we iterate by rounds of *m* iterations; each round is called an *epoch*.\n",
    "\n",
    "While the Batch GD code iterated 1000 times over the entire training set, SGD goes through the entire training set only 50 times and reached a pretty good solution."
   ]
  },
  {
   "cell_type": "code",
   "execution_count": 15,
   "id": "2e695519",
   "metadata": {},
   "outputs": [
    {
     "data": {
      "text/plain": [
       "array([[4.10094757],\n",
       "       [2.9156568 ]])"
      ]
     },
     "execution_count": 15,
     "metadata": {},
     "output_type": "execute_result"
    }
   ],
   "source": [
    "theta"
   ]
  },
  {
   "cell_type": "markdown",
   "id": "b9718b99",
   "metadata": {},
   "source": [
    "While using SGD, the training instances must be independent and identically distributed (iid) to ensure that the parameters get pulled toward the global optimum on average. A simple way to ensure this is to shuffle the instances during training (either pick each instance randomly or shuffle the training set at the beginning of each epoch). If we do not shuffle the instances and by example say - the instances are sorted by label - then SGD will start optimizing by for one label, then the next and so on, and it will not settle close to the global minimum."
   ]
  },
  {
   "cell_type": "markdown",
   "id": "897bb519",
   "metadata": {},
   "source": [
    "To perform Linear Regression using SGD with Scikit-Learn, we can use the **SGDRegressor** class, which defaults to optimizing the squared error cost function. \n",
    "\n",
    "The following code runs for maximum 1000 epochs or until the loss drops by less than 0.001 during one epoch (**max_iter=1000, tol=1e-3**). It starts with a learnin rate of 0.1 (**eta0=0.1**), using the default learning schedule (different from the preceding one). Lastly, it does not use any regularization (**penalty=None**)"
   ]
  },
  {
   "cell_type": "code",
   "execution_count": 16,
   "id": "221513b0",
   "metadata": {},
   "outputs": [
    {
     "data": {
      "text/plain": [
       "SGDRegressor(eta0=0.1, penalty=None)"
      ]
     },
     "execution_count": 16,
     "metadata": {},
     "output_type": "execute_result"
    }
   ],
   "source": [
    "from sklearn.linear_model import SGDRegressor\n",
    "\n",
    "sgd_reg = SGDRegressor(max_iter=1000, tol=1e-3, penalty=None, eta0=0.1)\n",
    "sgd_reg.fit(X, y.ravel())"
   ]
  },
  {
   "cell_type": "code",
   "execution_count": 17,
   "id": "a4a1b9dd",
   "metadata": {},
   "outputs": [
    {
     "data": {
      "text/plain": [
       "(array([4.13133005]), array([3.00140404]))"
      ]
     },
     "execution_count": 17,
     "metadata": {},
     "output_type": "execute_result"
    }
   ],
   "source": [
    "sgd_reg.intercept_, sgd_reg.coef_"
   ]
  },
  {
   "cell_type": "markdown",
   "id": "75f7af6b",
   "metadata": {},
   "source": [
    "Once again, we find a solution very close to the one we found using the Normal Equation"
   ]
  },
  {
   "cell_type": "markdown",
   "id": "663380b5",
   "metadata": {},
   "source": [
    "### Mini-batch Gradient Descent"
   ]
  },
  {
   "cell_type": "markdown",
   "id": "bb2ae799",
   "metadata": {},
   "source": [
    "At each step, instead of computing the gradients based on the full training set (as in Batch DG) or on just one instance (as in Stochastic GD), Mini-batch GD computes the gradients on small random sets of instances called *mini-batches*. The main advantage of Mini-batch GD over SGD is that we get a performance boost from hardware optimization of matrix operations, especially when using GPUs.\n",
    "\n",
    "The algorithm's progress in the parameter space is less erratic than SGD especially with fairly large mini-batches. As a result, Mini-batch GD will end up walking closer to the minima than SGD but it may be harder to escape from local minima. \n",
    "\n",
    "If we compare all three algorithms, we notice that Batch GD's path actually stops at the minima while the other two walk around the minima. However, Batch GD takes a lot of time and both SGD and Mini-batch GD can also converge close enough to the minima if we use a good learning schedule."
   ]
  },
  {
   "cell_type": "markdown",
   "id": "88612a32",
   "metadata": {},
   "source": [
    "*Comparison of algorithms for Linear Regression*\n",
    "\n",
    "| Algorithm | Large m | Out-of-core support | Large n | Hyperparameters | Scaling required | Scikit-Learn |\n",
    "  | --------- | :------- | :------------------- | :------- | :--------------- | :---------------- | :------------ |\n",
    "  | Normal Equation | Fast | No | Slow | 0 | No | N/A |\n",
    "  | SVD | Fast | No | Slow | 0 | No | LinearRegression |\n",
    "  | Batch GD | Slow | No | Fast | 2 | Yes | SGDRegressor |\n",
    "  | Stochastic GD | Fast | Yes | Fast | $\\geq$ 2 | Yes | SGDRegressor |\n",
    "  | Mini-batch GD | Fast | Yes | Fast | $\\geq$ 2 | Yes | SGDRegressor |"
   ]
  },
  {
   "cell_type": "markdown",
   "id": "76a17f09",
   "metadata": {},
   "source": [
    "There is almost no difference after training: all algorithms end up with very similar models and make predictions in exactly the same way."
   ]
  },
  {
   "cell_type": "markdown",
   "id": "03e6fae7",
   "metadata": {},
   "source": [
    "# Polynomial Regression"
   ]
  },
  {
   "cell_type": "markdown",
   "id": "99650ca8",
   "metadata": {},
   "source": [
    "If our data is more complex than a straight line, we can use a linear model to fit non-linear data. A simple way to do this is to add powers of each feature as new features, then train a linear model on this extended set of features. This technique is called *Polynomial Regression*.\n",
    "\n",
    "Generating some nonlinear data based on a simple *quadratic equation*:\n",
    "\n",
    "$y = ax^{2} + bx + c$"
   ]
  },
  {
   "cell_type": "code",
   "execution_count": 18,
   "id": "bd987ec5",
   "metadata": {},
   "outputs": [],
   "source": [
    "m = 100\n",
    "X = 6 * np.random.rand(m, 1) - 3\n",
    "y = 0.5 * X**2 + X + 2 + np.random.randn(m, 1)"
   ]
  },
  {
   "cell_type": "code",
   "execution_count": 19,
   "id": "1c7e0046",
   "metadata": {},
   "outputs": [
    {
     "data": {
      "image/png": "[encoded data removed]",
      "text/plain": [
       "<Figure size 432x288 with 1 Axes>"
      ]
     },
     "metadata": {
      "needs_background": "light"
     },
     "output_type": "display_data"
    }
   ],
   "source": [
    "plt.scatter(X, y)\n",
    "plt.show()"
   ]
  },
  {
   "cell_type": "markdown",
   "id": "e8e62aef",
   "metadata": {},
   "source": [
    "Clearly, a linear model cannot fit this data properly. So we use Scikit-Learn's **PolynomialFeatures** class to transform our training data, adding the square (second-degree polynomial) of each feature in the training set as a new feature (in this case there is just one feature):"
   ]
  },
  {
   "cell_type": "code",
   "execution_count": 20,
   "id": "e8f5bff0",
   "metadata": {},
   "outputs": [
    {
     "data": {
      "text/plain": [
       "array([1.37151979])"
      ]
     },
     "execution_count": 20,
     "metadata": {},
     "output_type": "execute_result"
    }
   ],
   "source": [
    "from sklearn.preprocessing import PolynomialFeatures\n",
    "\n",
    "poly_features = PolynomialFeatures(degree=2, include_bias=False)\n",
    "X_poly = poly_features.fit_transform(X)\n",
    "X[0]"
   ]
  },
  {
   "cell_type": "code",
   "execution_count": 21,
   "id": "e7553c9a",
   "metadata": {},
   "outputs": [
    {
     "data": {
      "text/plain": [
       "array([1.37151979, 1.88106653])"
      ]
     },
     "execution_count": 21,
     "metadata": {},
     "output_type": "execute_result"
    }
   ],
   "source": [
    "X_poly[0]"
   ]
  },
  {
   "cell_type": "code",
   "execution_count": 22,
   "id": "712182fd",
   "metadata": {},
   "outputs": [],
   "source": [
    "lin_reg = LinearRegression()"
   ]
  },
  {
   "cell_type": "code",
   "execution_count": 23,
   "id": "4179cf8b",
   "metadata": {},
   "outputs": [
    {
     "data": {
      "text/plain": [
       "LinearRegression()"
      ]
     },
     "execution_count": 23,
     "metadata": {},
     "output_type": "execute_result"
    }
   ],
   "source": [
    "lin_reg.fit(X_poly, y)"
   ]
  },
  {
   "cell_type": "code",
   "execution_count": 24,
   "id": "3e047aa1",
   "metadata": {},
   "outputs": [
    {
     "data": {
      "text/plain": [
       "(array([2.19640086]), array([[1.07021715, 0.4591917 ]]))"
      ]
     },
     "execution_count": 24,
     "metadata": {},
     "output_type": "execute_result"
    }
   ],
   "source": [
    "lin_reg.intercept_, lin_reg.coef_"
   ]
  },
  {
   "cell_type": "markdown",
   "id": "edb2ba31",
   "metadata": {},
   "source": [
    "The model estimates $\\hat{y} = 0.45x_{1}^{2} + 1.07x_{1} + 2.19$ when the original function was \n",
    "\n",
    "$y = 0.5x_{1}^{2} + 1.0x_{1} + 2.0 + $ Gaussian noise. A decent estimate."
   ]
  },
  {
   "cell_type": "markdown",
   "id": "df1ab255",
   "metadata": {},
   "source": [
    "When there are multiple features, Polynomial Regression is capable of finding relations between features (which is something plain Linear Regression cannot do). This is made possible by the fact that **PolynomialFeatures** also adds all combinations of features up to the given degree. For example, if there were two features $a$ and $b$, **PolynomialFeatures** with *degree=3* would not only add the features $a^{2}, a^{3}, b^{2}$ and $b^{3}$ but also the combinations $ab, a^{2}b, ab^{2}$"
   ]
  },
  {
   "cell_type": "markdown",
   "id": "dd727fce",
   "metadata": {},
   "source": [
    "**PolynomialFeatures** *(degree=d)* tranforms an array containing n features into an array containing $\\frac{(n+d)!}{d!n!}$ features where $n!$ is the *factorial* of n. We must beware of this combinatorial explosion of features. "
   ]
  },
  {
   "cell_type": "markdown",
   "id": "ca1561b4",
   "metadata": {},
   "source": [
    "### Learning Curves"
   ]
  },
  {
   "cell_type": "markdown",
   "id": "d8e7c8e3",
   "metadata": {},
   "source": [
    "If we fit a 300 degree polynomial on the previous data, the curve will fit almost all points. This is overfitting. If we try to fit a linear model, it will not fit many points. This underfitting. The quadratic polynomial is perfect for the data since the data was generated using a quadratic function. But we won't always know what function generates the data, which makes model selection a dilemma. \n",
    "\n",
    "We can use cross-validation to get an estimate of the model's generalization performance. If a model performs well on training data but generalizes poorly according to CV metrics, then the model is overfitting. If it performs poorly on both, then it is underfitting. This is one way to tell if a model is too simple or complex.\n",
    "\n",
    "Another way to tell is to look at the *learning curves*. These are plots of the model's performance on the training set and validation set as a function of the training set size (or the training iteration). To generate the plots, train the model several times on different sized subsets of the training set. The following code defines a function that, given some training data, plots the learning curves of a model:"
   ]
  },
  {
   "cell_type": "code",
   "execution_count": 25,
   "id": "6cf5b583",
   "metadata": {},
   "outputs": [],
   "source": [
    "from sklearn.metrics import mean_squared_error\n",
    "from sklearn.model_selection import train_test_split\n",
    "\n",
    "def plot_learning_curves(model, X, y):\n",
    "    X_train, X_val, y_train, y_val = train_test_split(X, y, test_size=0.2)\n",
    "    train_errors, val_errors = [], []\n",
    "    for m in range(1, len(X_train)):\n",
    "        model.fit(X_train[:m], y_train[:m])\n",
    "        y_train_predict = model.predict(X_train[:m])\n",
    "        y_val_predict = model.predict(X_val)\n",
    "        train_errors.append(mean_squared_error(y_train[:m], y_train_predict))\n",
    "        val_errors.append(mean_squared_error(y_val, y_val_predict))\n",
    "    plt.xlabel(\"Training set size\")\n",
    "    plt.ylabel(\"RMSE\")\n",
    "    plt.plot(np.sqrt(train_errors), \"r-+\", linewidth=2, label=\"train\")\n",
    "    plt.plot(np.sqrt(val_errors), \"b-\", linewidth=3, label=\"val\")"
   ]
  },
  {
   "cell_type": "code",
   "execution_count": 26,
   "id": "5e09d02f",
   "metadata": {},
   "outputs": [
    {
     "data": {
      "image/png": "[encoded data removed]",
      "text/plain": [
       "<Figure size 432x288 with 1 Axes>"
      ]
     },
     "metadata": {
      "needs_background": "light"
     },
     "output_type": "display_data"
    }
   ],
   "source": [
    "lin_reg = LinearRegression()\n",
    "plot_learning_curves(lin_reg, X, y)"
   ]
  },
  {
   "cell_type": "markdown",
   "id": "59a01a18",
   "metadata": {},
   "source": [
    "We plot a learning curve for the linear model first using Scikit-Learn's **LinearRegression** class. Looking at the performance on the training data, the model has zero error for the first few instances and then it rises as it encounters more instances before it eventually plateaus out. On the validation set, the model has a very high error for the first few instances since it cannot generalize and then eventually after it encounters more instances it slowly goes down. However, once again, a straight line cannot do a good job modeling the data, so error ends up at a plateau very close to the other curve.\n",
    "\n",
    "These learning curves are typical of a model that's underfitting. Both curves have reached a plateau; they are close and fairly high.\n",
    "\n",
    "If your model is underfitting the data, adding more training examples will not help. You need to use a more complex model or come up with better features."
   ]
  },
  {
   "cell_type": "code",
   "execution_count": 27,
   "id": "ba68e5e7",
   "metadata": {},
   "outputs": [
    {
     "data": {
      "image/png": "[encoded data removed]",
      "text/plain": [
       "<Figure size 432x288 with 1 Axes>"
      ]
     },
     "metadata": {
      "needs_background": "light"
     },
     "output_type": "display_data"
    }
   ],
   "source": [
    "from sklearn.pipeline import Pipeline\n",
    "\n",
    "polynomial_regression = Pipeline([\n",
    "    (\"poly_features\", PolynomialFeatures(degree=4, include_bias=False)),\n",
    "    (\"lin_reg\", LinearRegression())\n",
    "])\n",
    "\n",
    "plot_learning_curves(polynomial_regression, X, y)"
   ]
  },
  {
   "cell_type": "markdown",
   "id": "99aadfb5",
   "metadata": {},
   "source": [
    "We now look at the learning curve for a 4 degree polynomial on the same data. \n",
    "\n",
    "These curves look a bit like the previous ones but there are two very important differences:\n",
    "\n",
    "1. The error on the training data is much lower than with the Linear Regression model.\n",
    "2. There is a gap between the curves. This means that the model performs significantly better on the training data than on the validation data, which is the hallmark of an overfitting model. If we used a much larger training set however, the two curves would continue to get closer.\n",
    "\n",
    "One way to improve an overfitting model is to feed it more training data until the validation error reaches the training error."
   ]
  },
  {
   "cell_type": "markdown",
   "id": "a1d99527",
   "metadata": {},
   "source": [
    "### The Bias/Variance Trade-off"
   ]
  },
  {
   "cell_type": "markdown",
   "id": "83a00f35",
   "metadata": {},
   "source": [
    "A model's generalization error can be expressed as the sum of three very different errors:\n",
    "\n",
    "1. *Bias* : This part of the generalization error is due to wrong assumptions, such as assuming that the data is linear when it is actually quadratic. A high-bias model is most likely to underfit the training data.\n",
    "2. *Variance* : This part is due to the model's excessive sensitivity to small variations in the training data. A model with many degrees of freedom (such as high-degree polynomial model) is likely to have high variance and thus overfit the training data.\n",
    "3. *Irreducible error* : This part is due to the noisiness of the data itself. The only way to reduce this part of the error is to clean up the data (e.g. fix the data sources, such as broken sensors, or detect and remove outliers).\n",
    "\n",
    "Increasing a model's complexity will typically increase its variance and reduce its bias. Conversely, reducing a model's complexity increases its bias and reduces its variance. This is why it's called a trade-off."
   ]
  },
  {
   "cell_type": "markdown",
   "id": "4363eeff",
   "metadata": {},
   "source": [
    "# Regularized Linear Models"
   ]
  },
  {
   "cell_type": "markdown",
   "id": "c9c16019",
   "metadata": {},
   "source": [
    "A simple way to regularize a polynomial model is to reduce the number of polynomial degrees.\n",
    "\n",
    "For a linear model, regularization is typically achieved by constraining the weights of the model. "
   ]
  },
  {
   "cell_type": "markdown",
   "id": "199c5fd1",
   "metadata": {},
   "source": [
    "### Ridge Regression"
   ]
  },
  {
   "cell_type": "markdown",
   "id": "28310d97",
   "metadata": {},
   "source": [
    "*Ridge Regression* is a regularized version of Linear Regression: a *regularization term* equal to $\\alpha \\sum_{i=1}^{n} \\theta_{i}^{2}$ is added to the cost function. This forces the learning algorithm to not only fit the data but also keep the model weights as small as possible. The regularization term should only be added to the cost function during training. Once the model is trained, we use the unregularized performance measure to evaluate the model's performance.\n",
    "\n",
    "It is common for the cost function used during training to be different from the performance measures used for testing. Apart from regularization, another reason they are different is that a good training cost function should have optimization-friendly derivatives, while the performance measure used for testing should be as close as possible to the final objective. For example, classifiers are often trained using a cost function such as log loss but evaluated using precision/recall.\n",
    "\n",
    "The hyperparameter $\\alpha$ controls how much we want to regularize the model. If $\\alpha = 0$, then Ridge Regression is just Linear Regression. If $\\alpha$ is very large, then all weights end up very close to zero and the result is a flat line going through the data's mean. The cost function of Ridge Regression is given by:\n",
    "\n",
    "$J(\\theta) = MSE(\\theta) + \\alpha \\frac{1}{2} \\sum_{i=1}^{n} \\theta_{i}^{2}$\n",
    "\n",
    "The bias term $\\theta_{0}$ is not regularized. We can define $w$ was the vector of feature weights, then the regularization term is equal to $\\frac{1}{2}(||w||_{2})^{2}$ where $||w||_{2}$ represents the $l_{2}$ norm of the weight vector. For Gradient Descent, just add $\\alpha w$ to the MSE Gradient vector.\n",
    "\n",
    "It is important to scale the data before performing Ridge Regression as it is sensitive to the scale of the input features. This is true of most regularized models."
   ]
  },
  {
   "cell_type": "markdown",
   "id": "e3c14eb7",
   "metadata": {},
   "source": [
    "Performing Ridge Regression with Scikit-Learn using a closed form solution"
   ]
  },
  {
   "cell_type": "code",
   "execution_count": 28,
   "id": "3bf18d5e",
   "metadata": {},
   "outputs": [
    {
     "data": {
      "text/plain": [
       "array([[5.15035247]])"
      ]
     },
     "execution_count": 28,
     "metadata": {},
     "output_type": "execute_result"
    }
   ],
   "source": [
    "from sklearn.linear_model import Ridge\n",
    "\n",
    "ridge_reg = Ridge(alpha=1, solver=\"cholesky\")\n",
    "ridge_reg.fit(X, y)\n",
    "ridge_reg.predict([[1.5]])"
   ]
  },
  {
   "cell_type": "markdown",
   "id": "dba2bb83",
   "metadata": {},
   "source": [
    "Performing Ridge Regression using Stochastic Gradient Descent"
   ]
  },
  {
   "cell_type": "code",
   "execution_count": 29,
   "id": "514f3638",
   "metadata": {},
   "outputs": [
    {
     "data": {
      "text/plain": [
       "array([5.13882773])"
      ]
     },
     "execution_count": 29,
     "metadata": {},
     "output_type": "execute_result"
    }
   ],
   "source": [
    "sgd_reg = SGDRegressor(penalty=\"l2\")\n",
    "sgd_reg.fit(X, y.ravel())\n",
    "sgd_reg.predict([[1.5]])"
   ]
  },
  {
   "cell_type": "markdown",
   "id": "49bf8197",
   "metadata": {},
   "source": [
    "### Lasso Regression"
   ]
  },
  {
   "cell_type": "markdown",
   "id": "da67bbf7",
   "metadata": {},
   "source": [
    "*Least Absolute Shrinkage and Selection Operator Regression* or *Lasso Regression* is another regularized version of Linear Regression, it uses the $l_{1}$ norm instead of the $l_{2}$ norm in the cost function.\n",
    "\n",
    "Cost function of Lasso Regression:\n",
    "\n",
    "$J(\\theta) = MSE(\\theta) + \\alpha \\sum_{i=1}^{n} |\\theta_{i}|$\n",
    "\n",
    "An important characteristic of Lasso Regression is that it tends to eliminate the weights of the least important features (i.e. set them to zero).Lasso Regression automatically performs feature selection and outputs a *sparse model* (i.e. with few nonzero feature weights)."
   ]
  },
  {
   "cell_type": "code",
   "execution_count": 30,
   "id": "4e79f217",
   "metadata": {},
   "outputs": [
    {
     "data": {
      "text/plain": [
       "array([5.11075326])"
      ]
     },
     "execution_count": 30,
     "metadata": {},
     "output_type": "execute_result"
    }
   ],
   "source": [
    "from sklearn.linear_model import Lasso\n",
    "\n",
    "lasso_reg = Lasso(alpha=0.1)\n",
    "lasso_reg.fit(X, y)\n",
    "lasso_reg.predict([[1.5]])"
   ]
  },
  {
   "cell_type": "markdown",
   "id": "68e15279",
   "metadata": {},
   "source": [
    "### Elastic Net"
   ]
  },
  {
   "cell_type": "markdown",
   "id": "9e2f2077",
   "metadata": {},
   "source": [
    "Elastic Net is a middle ground between Ridge Regression and Lasso Regression. The regularization term is a mix of both Ridge and Lasso Regression's regularization terms, and can be controlled by the mix ratio *r*. When $r=0$, Elastic Net is equivalent to Ridge Regression and when $r=1$ it is equivalent to Lasso Regression. The cost function looks like:\n",
    "\n",
    "$J(\\theta) = MSE(\\theta) + r \\alpha \\sum_{i=1}^{n} |\\theta_{i}| + \\frac{1-r}{2} \\alpha \\sum_{i=1}^{n} \\theta_{i}^{2}$"
   ]
  },
  {
   "cell_type": "code",
   "execution_count": 31,
   "id": "ae05516b",
   "metadata": {},
   "outputs": [
    {
     "data": {
      "text/plain": [
       "array([5.11005775])"
      ]
     },
     "execution_count": 31,
     "metadata": {},
     "output_type": "execute_result"
    }
   ],
   "source": [
    "from sklearn.linear_model import ElasticNet\n",
    "\n",
    "elastic_net = ElasticNet(alpha=0.1, l1_ratio=0.5)\n",
    "elastic_net.fit(X, y)\n",
    "elastic_net.predict([[1.5]])"
   ]
  },
  {
   "cell_type": "markdown",
   "id": "5fd8adbf",
   "metadata": {},
   "source": [
    "### Early Stopping"
   ]
  },
  {
   "cell_type": "markdown",
   "id": "bd729f53",
   "metadata": {},
   "source": [
    "Another way to regularize iterative learning algorithms like Gradient Descent is to stop training as soon as the validation error reaches a minimum. This is called *early stopping*."
   ]
  },
  {
   "cell_type": "code",
   "execution_count": 32,
   "id": "705da492",
   "metadata": {},
   "outputs": [],
   "source": [
    "from sklearn.base import clone\n",
    "from sklearn.preprocessing import StandardScaler\n",
    "\n",
    "poly_scaler = Pipeline([\n",
    "    (\"poly_features\", PolynomialFeatures(degree=90, include_bias=False)),\n",
    "    (\"std_scaler\", StandardScaler())\n",
    "])\n",
    "\n",
    "X_train, X_val, y_train, y_val = train_test_split(X, y, test_size=0.2)\n",
    "X_train_poly_scaled = poly_scaler.fit_transform(X_train)\n",
    "X_val_poly_scaled = poly_scaler.transform(X_val)\n",
    "\n",
    "sgd_reg = SGDRegressor(max_iter=1, tol=-np.infty, warm_start=True, penalty=None, learning_rate=\"constant\", eta0=0.0005)\n",
    "\n",
    "minimum_val_error = float(\"inf\")\n",
    "best_epoch = None\n",
    "best_model = None\n",
    "for epoch in range(1000):\n",
    "    sgd_reg.fit(X_train_poly_scaled, y_train.ravel()) #continues where it left off\n",
    "    y_val_predict = sgd_reg.predict(X_val_poly_scaled)\n",
    "    val_error = mean_squared_error(y_val, y_val_predict)\n",
    "    if val_error < minimum_val_error:\n",
    "        minimum_val_error = val_error\n",
    "        best_epoch = epoch\n",
    "        best_model = clone(sgd_reg)"
   ]
  },
  {
   "cell_type": "markdown",
   "id": "cc00a52d",
   "metadata": {},
   "source": [
    "With **warm_start=True**, when the fit() method is caalled it continues training where it left off, instead of starting from scratch."
   ]
  },
  {
   "cell_type": "markdown",
   "id": "a71eccfd",
   "metadata": {},
   "source": [
    "# Logistic Regression"
   ]
  },
  {
   "cell_type": "markdown",
   "id": "62d0e429",
   "metadata": {},
   "source": [
    "Some regression algorithms can be used for classification and vice versa. *Logistic Regression* is ued to estimate the probability that an instance belongs to a particular class. If the estimated probability is greater than 50% then the model predicts that it belongs to that class, otherwise it does not. This makes it a binary classifier."
   ]
  },
  {
   "cell_type": "markdown",
   "id": "d59ea905",
   "metadata": {},
   "source": [
    "### Estimating Probabilities"
   ]
  },
  {
   "cell_type": "markdown",
   "id": "688cc0c6",
   "metadata": {},
   "source": [
    "Just like a Linear Regression model, Logistic Regression model computes a weighted sum of the input features plus a bias term, but instead of outputting the result directly, it outputs the *logistic* of this result. Logistic regression estimated probability:\n",
    "\n",
    "$\\hat{p} = h_{\\theta}(x) = \\sigma (x^{T} \\theta)$\n",
    "\n",
    "The logistic - $\\sigma$ - is a *sigmoid function* that outputs a number between 0 and 1. It is defined as:\n",
    "\n",
    "$\\sigma (t) = \\frac{1}{1 + exp(-t)}$\n",
    "\n",
    "Once a Logistic Regression model has estimated the probability $\\hat{p} = h_{\\theta} (x)$ that an instance **x** belongs to the positive class, it can make its predictions $\\hat{y}$ easily:\n",
    "\n",
    "if $\\hat{p} < 0.5, \\hat{y} = 0$\n",
    "\n",
    "if $\\hat{p} \\geq 0.5, \\hat{y} = 1$\n",
    "\n",
    "We can see that $\\sigma (t) < 0.5$ when t < 0, and $\\sigma (t) \\geq 0.5$ when $t \\geq 0$, so a Logistic Regression model predicts 1 if $x^{T} \\theta$ is positive and 0 if it is negative."
   ]
  },
  {
   "cell_type": "markdown",
   "id": "fc54bfc9",
   "metadata": {},
   "source": [
    "### Training and Cost Function"
   ]
  },
  {
   "cell_type": "markdown",
   "id": "42cd4f97",
   "metadata": {},
   "source": [
    "The cost function of a single training instance for Logistic Regression is:\n",
    "\n",
    "$if y = 1, c(\\theta) = -log(\\hat{p})$\n",
    "\n",
    "$if y = 0, c(\\theta) = -log(1-\\hat{p})$\n",
    "\n",
    "The cost function makes sense because $-log(t)$ grows very large when t approaches 0, so the cost will be large if the model estimates a probability close to 0 for a positive instance, and it will also be very large if the model estimates a probability close to 1 for a negative instance. On the other hand, $-log(t)$ is close to 0 when t is close to 1, so the cost will be close to 0 if the estimated probability is close to 0 for a negative instance or close to 1 for a positive instance.\n",
    "\n",
    "The cost function over the entire training set is just the average cost over all training instances. It is called the *log loss* and is written as:\n",
    "\n",
    "$J(\\theta) = -\\frac{1}{m} \\sum_{i=1}^{m} [y^{(i)} log(\\hat{p}^{(i)}) + (1 - y^{(i)}) log (1 - \\hat{p}^{(i)})]$"
   ]
  },
  {
   "cell_type": "markdown",
   "id": "94f63cc3",
   "metadata": {},
   "source": [
    "### Decision Boundaries"
   ]
  },
  {
   "cell_type": "markdown",
   "id": "066cec4a",
   "metadata": {},
   "source": [
    "Building a classifier to detect the *Iris virginica* type based only on the petal width feature"
   ]
  },
  {
   "cell_type": "code",
   "execution_count": 33,
   "id": "4766c395",
   "metadata": {},
   "outputs": [
    {
     "data": {
      "text/plain": [
       "['data',\n",
       " 'target',\n",
       " 'frame',\n",
       " 'target_names',\n",
       " 'DESCR',\n",
       " 'feature_names',\n",
       " 'filename',\n",
       " 'data_module']"
      ]
     },
     "execution_count": 33,
     "metadata": {},
     "output_type": "execute_result"
    }
   ],
   "source": [
    "from sklearn import datasets\n",
    "\n",
    "iris = datasets.load_iris()\n",
    "list(iris.keys())"
   ]
  },
  {
   "cell_type": "code",
   "execution_count": 34,
   "id": "a73a34c5",
   "metadata": {},
   "outputs": [],
   "source": [
    "X = iris[\"data\"][:, 3:] # only petal width feature\n",
    "y = (iris[\"target\"] == 2).astype(int) # 1 if Iris virginica, else 0"
   ]
  },
  {
   "cell_type": "code",
   "execution_count": 35,
   "id": "35ba77fb",
   "metadata": {},
   "outputs": [
    {
     "data": {
      "text/plain": [
       "LogisticRegression()"
      ]
     },
     "execution_count": 35,
     "metadata": {},
     "output_type": "execute_result"
    }
   ],
   "source": [
    "from sklearn.linear_model import LogisticRegression\n",
    "\n",
    "log_reg = LogisticRegression()\n",
    "log_reg.fit(X, y)"
   ]
  },
  {
   "cell_type": "code",
   "execution_count": 36,
   "id": "49bdb0c2",
   "metadata": {},
   "outputs": [
    {
     "data": {
      "text/plain": [
       "[<matplotlib.lines.Line2D at 0x7f8d9c18e6d0>]"
      ]
     },
     "execution_count": 36,
     "metadata": {},
     "output_type": "execute_result"
    },
    {
     "data": {
      "image/png": "[encoded data removed]",
      "text/plain": [
       "<Figure size 432x288 with 1 Axes>"
      ]
     },
     "metadata": {
      "needs_background": "light"
     },
     "output_type": "display_data"
    }
   ],
   "source": [
    "X_new = np.linspace(0, 3, 1000).reshape(-1, 1)\n",
    "y_proba = log_reg.predict_proba(X_new)\n",
    "plt.plot(X_new, y_proba[:, 1], \"g-\", label=\"Iris virginica\")\n",
    "plt.plot(X_new, y_proba[:, 0], \"b--\", label=\"Not Iris Virginica\")"
   ]
  },
  {
   "cell_type": "markdown",
   "id": "75f3a611",
   "metadata": {},
   "source": [
    "The petal width of *Iris virginica* flowers ranges from 1.4cm to 2.5cm, while the other iris flowers generally have a smaller petal width, ranging from 0.1cm to 1.8cm. There is a *decision boundary* at 1.6cm."
   ]
  },
  {
   "cell_type": "code",
   "execution_count": 37,
   "id": "1f1581fa",
   "metadata": {},
   "outputs": [
    {
     "data": {
      "text/plain": [
       "array([1, 0])"
      ]
     },
     "execution_count": 37,
     "metadata": {},
     "output_type": "execute_result"
    }
   ],
   "source": [
    "log_reg.predict([[1.7], [1.5]])"
   ]
  },
  {
   "cell_type": "markdown",
   "id": "0460ce9f",
   "metadata": {},
   "source": [
    "Just like other linear models, Logistic Regression models can be regularized using $l_{1}$ or $l_{2}$ penalties. Scikit-Learn adds an $l_{2}$ penalty by default.\n",
    "\n",
    "The hyperparameter controlling the regularization strength of a Scikit-Learn LogisticRegression model is not alpha, but its inverse **C**. The higher the value of C, the *less* the model is regularized."
   ]
  },
  {
   "cell_type": "markdown",
   "id": "ac487b51",
   "metadata": {},
   "source": [
    "### Softmax Regression"
   ]
  },
  {
   "cell_type": "markdown",
   "id": "fcf028dc",
   "metadata": {},
   "source": [
    "The Logistic Regression model can be generalized to support multiple classses directly, without having to train and combine multiple binary classifiers. This is called *Softmax Regression* or *Multinomial Logistic Regression*.\n",
    "\n",
    "When given an instance **x**, the Softmax Regression model first computes a score $s_{k}(x)$ for each class k, then estimates the probability of each class by applying the *softmax function* to the scores. The equation to compute $s_{k}(x)$:\n",
    "\n",
    "$s_{k}(x) = x^{T} \\theta^{(k)}$\n",
    "\n",
    "Each class has its own dedicated parameter vector $\\theta^{(k)}$. All these vectors are stored as rows in a *parameter matrix*, $\\Theta$\n",
    "\n",
    "Once the score of every class for an instance x has been computed, we can estimate the probability $\\hat{p}_{k}$ that the instance belongs to class k by running the scores through the softmax function. The function computes the exponential of every score then normalizes them (dividing by the sum of all the exponentials). The scores are generally called logits or log-odds. Softmax function:\n",
    "\n",
    "$\\hat{p}_{k} = \\sigma (s(x))_{k} = \\frac{exp(s_{k}(x))}{\\sum_{j=1}^{K} exp (s_{j}(x))}$\n",
    "\n",
    "In this Equation:\n",
    "\n",
    "1. K is the number of classes\n",
    "2. s(x) is a vector containing the scores of each class for the instance x\n",
    "3. $\\sigma(s(x))_{k}$ is the estimated probability that the instance x belongs to the class k, given the scores of each class for that instance.\n",
    "\n",
    "The Softmax Regression classifier predicts the class with the highest estimated probability.\n",
    "\n",
    "$\\hat{y} = argmax_{k} \\sigma (s(x))_{k} = argmax_{k} s_{k}(x) = argmax_{k} ((\\theta^{(k)})^{T} x)$\n",
    "\n",
    "The *argmax* operator returns the value of a variable that maximizes a function. \n",
    "\n",
    "The *cross entropy* is used to train and measure how well a set of estimated class probabilites match the target class.\n",
    "\n",
    "$J(\\theta) = - \\frac{1}{m} \\sum_{i=1}^{m} \\sum_{k=1}^{K} y_{k}^{(i)} log(\\hat{p}_{k}^{(i)})$\n",
    "\n",
    "In this equation:\n",
    "\n",
    "1. $y_{k}^{(i)}$ is the target probability that the $i^{th}$ instance belongs to the class k. It is equal to either 0 or 1, depending on if the instance belongs to the class or not.\n",
    "\n",
    "The gradient vector of this cost function is given by:\n",
    "\n",
    "$\\triangledown_{\\theta^{(k)}} J(\\theta) = \\frac{1}{m} \\sum_{i=1}^{m} (\\hat{p}_{k}^{(i)} - y_{k}^{(i)}) x^{(i)}$"
   ]
  },
  {
   "cell_type": "markdown",
   "id": "19cd71fb",
   "metadata": {},
   "source": [
    "Scikit-Learn's *LogisticRegression* uses OvR by default when trained on more than two classes but we can set the **multi_class** hyperparameter to \"multinomial\" to switch it to Softmax Regression. We must also specify a solver that supports Softmax Regression such as the \"lbfgs\" solver. It also applies the regularization by default which can be controlled with the C hyperparameter."
   ]
  },
  {
   "cell_type": "code",
   "execution_count": 38,
   "id": "e06a3fd5",
   "metadata": {},
   "outputs": [],
   "source": [
    "X = iris[\"data\"][:, (2, 3)] # petal length, petal width\n",
    "y = iris[\"target\"]"
   ]
  },
  {
   "cell_type": "code",
   "execution_count": 39,
   "id": "610fa21c",
   "metadata": {},
   "outputs": [
    {
     "data": {
      "text/plain": [
       "LogisticRegression(C=10, multi_class='multinomial')"
      ]
     },
     "execution_count": 39,
     "metadata": {},
     "output_type": "execute_result"
    }
   ],
   "source": [
    "softmax_reg = LogisticRegression(multi_class=\"multinomial\", solver=\"lbfgs\", C=10)\n",
    "softmax_reg.fit(X, y)"
   ]
  },
  {
   "cell_type": "code",
   "execution_count": 40,
   "id": "4f43bd58",
   "metadata": {},
   "outputs": [
    {
     "data": {
      "text/plain": [
       "array([2])"
      ]
     },
     "execution_count": 40,
     "metadata": {},
     "output_type": "execute_result"
    }
   ],
   "source": [
    "softmax_reg.predict([[5, 2]])"
   ]
  },
  {
   "cell_type": "code",
   "execution_count": 41,
   "id": "b030e611",
   "metadata": {},
   "outputs": [
    {
     "data": {
      "text/plain": [
       "array([[6.38014896e-07, 5.74929995e-02, 9.42506362e-01]])"
      ]
     },
     "execution_count": 41,
     "metadata": {},
     "output_type": "execute_result"
    }
   ],
   "source": [
    "softmax_reg.predict_proba([[5, 2]])"
   ]
  }
 ],
 "metadata": {
  "kernelspec": {
   "display_name": "Python 3 (ipykernel)",
   "language": "python",
   "name": "python3"
  },
  "language_info": {
   "codemirror_mode": {
    "name": "ipython",
    "version": 3
   },
   "file_extension": ".py",
   "mimetype": "text/x-python",
   "name": "python",
   "nbconvert_exporter": "python",
   "pygments_lexer": "ipython3",
   "version": "3.8.10"
  }
 },
 "nbformat": 4,
 "nbformat_minor": 5
}
